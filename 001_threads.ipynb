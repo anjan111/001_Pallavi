{
 "cells": [
  {
   "cell_type": "code",
   "execution_count": 8,
   "metadata": {},
   "outputs": [
    {
     "name": "stdout",
     "output_type": "stream",
     "text": [
      "start time :  1592359715.37\n",
      "name :  anjan\n",
      "name :  anjan\n",
      "name :  anjan\n",
      "name :  anjan\n",
      "name :  anjan\n",
      "name :  anjan\n",
      "name :  anjan\n",
      "name :  anjan\n",
      "name :  anjan\n",
      "name :  anjan\n",
      "********\n",
      "phone :  9640987960\n",
      "phone :  9640987960\n",
      "phone :  9640987960\n",
      "phone :  9640987960\n",
      "phone :  9640987960\n",
      "phone :  9640987960\n",
      "phone :  9640987960\n",
      "phone :  9640987960\n",
      "phone :  9640987960\n",
      "phone :  9640987960\n",
      "stop time :  1592359735.39\n"
     ]
    }
   ],
   "source": [
    "import time\n",
    "def fun1(name = None):\n",
    "    for i in range(10):\n",
    "        print \"name : \",name\n",
    "        time.sleep(1)\n",
    "def fun2(phone = None):\n",
    "    for i in range(10):\n",
    "        print \"phone : \",phone\n",
    "        time.sleep(1)\n",
    "def main():\n",
    "    fun1(\"anjan\")\n",
    "    print \"********\"\n",
    "    fun2(\"9640987960\")\n",
    "if __name__ == \"__main__\":\n",
    "    print\"start time : \",time.time()\n",
    "    main()\n",
    "    print\"stop time : \",time.time()"
   ]
  },
  {
   "cell_type": "code",
   "execution_count": 9,
   "metadata": {},
   "outputs": [
    {
     "name": "stdout",
     "output_type": "stream",
     "text": [
      "start time :  1592359750.25\n",
      "********\n",
      "stop time :  1592359750.25\n",
      "phone :  9640987960\n",
      "name :  anjan\n",
      "phone :  9640987960\n",
      "name :  anjan\n",
      "phone :  9640987960\n",
      "name :  anjan\n",
      "phone :  9640987960\n",
      "name :  anjan\n",
      "phone :  9640987960\n",
      "name :  anjan\n",
      "phone :  9640987960\n",
      "name :  anjan\n",
      "phone :  9640987960\n",
      "name :  anjan\n",
      "phone :  9640987960\n",
      "name :  anjan\n",
      "phone :  9640987960\n",
      "name :  anjan\n",
      "phone :  9640987960\n",
      "name :  anjan\n"
     ]
    }
   ],
   "source": [
    "import time\n",
    "import thread\n",
    "def fun1(name = None):\n",
    "    for i in range(10):\n",
    "        print \"name : \",name\n",
    "        time.sleep(1)\n",
    "def fun2(phone = None):\n",
    "    for i in range(10):\n",
    "        print \"phone : \",phone\n",
    "        time.sleep(1)\n",
    "def main():\n",
    "    #fun1(\"anjan\")\n",
    "    thread.start_new_thread(fun1,('anjan',))\n",
    "    print \"********\"\n",
    "    #fun2(\"9640987960\")\n",
    "    thread.start_new_thread(fun2,('9640987960',))\n",
    "if __name__ == \"__main__\":\n",
    "    print\"start time : \",time.time()\n",
    "    main()\n",
    "    print\"stop time : \",time.time()"
   ]
  },
  {
   "cell_type": "code",
   "execution_count": 15,
   "metadata": {},
   "outputs": [
    {
     "name": "stdout",
     "output_type": "stream",
     "text": [
      "start time :  1592360708.97\n",
      "name :  anjan\n",
      "name :  anjan\n",
      "name :  anjan\n",
      "name :  anjan\n",
      "name :  anjan\n",
      "name :  anjan\n",
      "name :  anjan\n",
      "name :  anjan\n",
      "name :  anjan\n",
      "name :  anjan\n",
      "******\n",
      "phone :  9640987960\n",
      "phone :  9640987960\n",
      "phone :  9640987960\n",
      "phone :  9640987960\n",
      "phone :  9640987960\n",
      "phone :  9640987960\n",
      "phone :  9640987960\n",
      "phone :  9640987960\n",
      "phone :  9640987960\n",
      "phone :  9640987960\n",
      "stop time :  1592360729.01\n"
     ]
    }
   ],
   "source": [
    "import time\n",
    "import threading \n",
    "def fun1(name = None):\n",
    "    for i in range(10):\n",
    "        print \"name : \",name\n",
    "        time.sleep(1)\n",
    "def fun2(phone = None):\n",
    "    for i in range(10):\n",
    "        print \"phone : \",phone\n",
    "        time.sleep(1)\n",
    "def main():\n",
    "    T1 = threading.Thread(target =fun1 ,args =(\"anjan\",))\n",
    "    T2 = threading.Thread(target =fun2 ,args =(\"9640987960\",))\n",
    "    T1.run()\n",
    "    print \"******\"\n",
    "    T2.run()\n",
    "if __name__ == \"__main__\":\n",
    "    print\"start time : \",time.time()\n",
    "    main()\n",
    "    print\"stop time : \",time.time()"
   ]
  },
  {
   "cell_type": "code",
   "execution_count": 12,
   "metadata": {},
   "outputs": [
    {
     "name": "stdout",
     "output_type": "stream",
     "text": [
      "['_Thread__bootstrap', '_Thread__bootstrap_inner', '_Thread__delete', '_Thread__exc_clear', '_Thread__exc_info', '_Thread__initialized', '_Thread__stop', '__class__', '__delattr__', '__dict__', '__doc__', '__format__', '__getattribute__', '__hash__', '__init__', '__module__', '__new__', '__reduce__', '__reduce_ex__', '__repr__', '__setattr__', '__sizeof__', '__str__', '__subclasshook__', '__weakref__', '_block', '_note', '_reset_internal_locks', '_set_daemon', '_set_ident', 'daemon', 'getName', 'ident', 'isAlive', 'isDaemon', 'is_alive', 'join', 'name', 'run', 'setDaemon', 'setName', 'start']\n"
     ]
    }
   ],
   "source": [
    "print dir(threading.Thread)"
   ]
  },
  {
   "cell_type": "code",
   "execution_count": null,
   "metadata": {},
   "outputs": [],
   "source": []
  }
 ],
 "metadata": {
  "kernelspec": {
   "display_name": "Python 2",
   "language": "python",
   "name": "python2"
  },
  "language_info": {
   "codemirror_mode": {
    "name": "ipython",
    "version": 2
   },
   "file_extension": ".py",
   "mimetype": "text/x-python",
   "name": "python",
   "nbconvert_exporter": "python",
   "pygments_lexer": "ipython2",
   "version": "2.7.16"
  }
 },
 "nbformat": 4,
 "nbformat_minor": 2
}
