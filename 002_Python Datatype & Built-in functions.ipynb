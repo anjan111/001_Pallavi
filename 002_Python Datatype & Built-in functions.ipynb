{
 "cells": [
  {
   "cell_type": "code",
   "execution_count": 1,
   "metadata": {},
   "outputs": [
    {
     "name": "stdout",
     "output_type": "stream",
     "text": [
      "<type 'int'>\n",
      "123\n",
      "50106624\n",
      "<type 'int'>\n",
      "-123\n",
      "78964216\n",
      "<type 'int'>\n",
      "0\n",
      "50103600\n"
     ]
    }
   ],
   "source": [
    "# Datatype \n",
    "'''\n",
    "==>> Variables are holding  data\n",
    "==>> To specify the what type of data holded by variable\n",
    "\n",
    "==>> There are 2 types of datatypes \n",
    "\n",
    "1. Fundamental Dataype\n",
    " ===>>  A single variable can hold single daata element\n",
    "     1. int\n",
    "     2. float\n",
    "     3. bool\n",
    "     4. None\n",
    "     5. complex\n",
    "\n",
    "2. Sequencial Datatype\n",
    "'''\n",
    "# int datatype\n",
    "# type() ---->>> To know the daatatype of variable\n",
    "# id()  - --->>  To know the memory location\n",
    "var = 123\n",
    "print type(var)\n",
    "print var\n",
    "print id(var)\n",
    "\n",
    "a   = -123\n",
    "print type(a)\n",
    "print a\n",
    "print id(a)\n",
    "\n",
    "b  = 0\n",
    "print type(b)\n",
    "print b\n",
    "print id(b)"
   ]
  },
  {
   "cell_type": "code",
   "execution_count": 2,
   "metadata": {},
   "outputs": [
    {
     "name": "stdout",
     "output_type": "stream",
     "text": [
      "<type 'float'>\n",
      "12.5453\n",
      "78956608\n",
      "<type 'float'>\n",
      "-12.23213\n",
      "78956680\n",
      "<type 'float'>\n",
      "0.0\n",
      "78956656\n"
     ]
    }
   ],
   "source": [
    "# float datatype  ---->> real decimal point number\n",
    "# type() ---->>> To know the daatatype of variable\n",
    "# id()  - --->>  To know the memory location\n",
    "var = 12.5453\n",
    "print type(var)\n",
    "print var\n",
    "print id(var)\n",
    "\n",
    "a   = -12.23213\n",
    "print type(a)\n",
    "print a\n",
    "print id(a)\n",
    "\n",
    "b  = 0.0\n",
    "print type(b)\n",
    "print b\n",
    "print id(b)"
   ]
  },
  {
   "cell_type": "code",
   "execution_count": 3,
   "metadata": {},
   "outputs": [
    {
     "name": "stdout",
     "output_type": "stream",
     "text": [
      "<type 'bool'>\n",
      "True\n",
      "1915076328\n",
      "<type 'bool'>\n",
      "False\n",
      "1915075912\n"
     ]
    }
   ],
   "source": [
    "# bool  --->>> True   / False\n",
    "var = True\n",
    "print type(var)\n",
    "print var\n",
    "print id(var)\n",
    "\n",
    "b = False\n",
    "print type(b)\n",
    "print b\n",
    "print id(b)"
   ]
  },
  {
   "cell_type": "code",
   "execution_count": 4,
   "metadata": {},
   "outputs": [
    {
     "name": "stdout",
     "output_type": "stream",
     "text": [
      "<type 'NoneType'>\n",
      "None\n",
      "1915030648\n"
     ]
    }
   ],
   "source": [
    "# None Type   \n",
    "var = None  #No daata\n",
    "print type(var)\n",
    "print var\n",
    "print id(var)"
   ]
  },
  {
   "cell_type": "code",
   "execution_count": 5,
   "metadata": {},
   "outputs": [
    {
     "name": "stdout",
     "output_type": "stream",
     "text": [
      "<type 'complex'>\n",
      "(7+4j)\n",
      "79764432\n"
     ]
    }
   ],
   "source": [
    "# complex  ---->>>  real + img  --->> X + Yj\n",
    "var = 7 + 4j\n",
    "print type(var)\n",
    "print var\n",
    "print id(var)"
   ]
  },
  {
   "cell_type": "code",
   "execution_count": 6,
   "metadata": {},
   "outputs": [
    {
     "name": "stdout",
     "output_type": "stream",
     "text": [
      "<type 'complex'>\n",
      "(7+56j)\n",
      "79764592\n"
     ]
    }
   ],
   "source": [
    "var = 7 + 56j\n",
    "print type(var)\n",
    "print var\n",
    "print id(var)"
   ]
  },
  {
   "cell_type": "code",
   "execution_count": 7,
   "metadata": {},
   "outputs": [
    {
     "name": "stdout",
     "output_type": "stream",
     "text": [
      "<type 'str'>\n",
      "python program\n",
      "86193712\n"
     ]
    }
   ],
   "source": [
    "# Sequencial Datatype\n",
    "'''\n",
    "A Single variable can hold multiple data elements\n",
    "1.  str======>>>  \" \"\n",
    "2.  list=====>>>  []\n",
    "3.  tuple====>>>  ()\n",
    "4.  set======>>>  {}\n",
    "5.  dict=====>>>  {}\n",
    "'''\n",
    "# collecion of characters with in double quotes\n",
    "var = \"python program\"\n",
    "print type(var)\n",
    "print var\n",
    "print id(var)"
   ]
  },
  {
   "cell_type": "code",
   "execution_count": 8,
   "metadata": {},
   "outputs": [
    {
     "name": "stdout",
     "output_type": "stream",
     "text": [
      "<type 'list'>\n",
      "[12, 3.45, True, None, (2+4j)]\n",
      "79861768\n"
     ]
    }
   ],
   "source": [
    "# collection of dissimular data type elements with in []\n",
    "var = [12 , 3.45 , True , None , 2+4j]\n",
    "print type(var)\n",
    "print var\n",
    "print id(var)"
   ]
  },
  {
   "cell_type": "code",
   "execution_count": 9,
   "metadata": {},
   "outputs": [
    {
     "name": "stdout",
     "output_type": "stream",
     "text": [
      "<type 'tuple'>\n",
      "(12, 3.45, True, None, (2+4j))\n",
      "85956128\n"
     ]
    }
   ],
   "source": [
    "# collection of dissimular data type elements with in ()\n",
    "var = (12 , 3.45 , True , None , 2+4j)\n",
    "print type(var)\n",
    "print var\n",
    "print id(var)"
   ]
  },
  {
   "cell_type": "code",
   "execution_count": 10,
   "metadata": {},
   "outputs": [
    {
     "name": "stdout",
     "output_type": "stream",
     "text": [
      "<type 'set'>\n",
      "set([True, 12, (2+4j), 3.45, None])\n",
      "76361288\n"
     ]
    }
   ],
   "source": [
    "# collection of dissimular data type elements with in {}\n",
    "var = {12 , 3.45 , True , None , 2+4j}\n",
    "print type(var)\n",
    "print var\n",
    "print id(var)"
   ]
  },
  {
   "cell_type": "code",
   "execution_count": 11,
   "metadata": {},
   "outputs": [
    {
     "name": "stdout",
     "output_type": "stream",
     "text": [
      "<type 'dict'>\n",
      "{'key2': 'value2', 'key1 ': 'value1'}\n",
      "86215400\n"
     ]
    }
   ],
   "source": [
    "# collection of dissimular data type items ( key : value) with in {}\n",
    "var = { \"key1 \" : \"value1\" , \"key2\" : \"value2\"}\n",
    "print type(var)\n",
    "print var\n",
    "print id(var)"
   ]
  },
  {
   "cell_type": "code",
   "execution_count": 12,
   "metadata": {},
   "outputs": [
    {
     "name": "stdout",
     "output_type": "stream",
     "text": [
      "{'SS06': 'Shaligram', 'SS07': 'pallavi', 'SS04': 'Prudhvi', 'SS05': 'pravin', 'SS02': 'Mani', 'SS01': 'Anjan Kumar'}\n",
      "<type 'dict'>\n",
      "86205848\n"
     ]
    }
   ],
   "source": [
    "employee = {\"SS01\" : \"Anjan Kumar\" , \"SS05\" : \"pravin\" , \"SS04\": \"Prudhvi\", \"SS02\":\"Mani\",\"SS06\":\"Shaligram\" , \"SS07\":\"pallavi\"}\n",
    "print employee\n",
    "print type(employee)\n",
    "print id(employee)"
   ]
  },
  {
   "cell_type": "code",
   "execution_count": 13,
   "metadata": {},
   "outputs": [
    {
     "name": "stdout",
     "output_type": "stream",
     "text": [
      "[12, 89, 45]\n",
      "[12, 100, 45]\n"
     ]
    }
   ],
   "source": [
    "# list is muable\n",
    "var = [12,89,45]\n",
    "print var\n",
    "var[1] = 100\n",
    "print var"
   ]
  },
  {
   "cell_type": "code",
   "execution_count": 14,
   "metadata": {},
   "outputs": [
    {
     "name": "stdout",
     "output_type": "stream",
     "text": [
      "(12, 89, 45)\n"
     ]
    },
    {
     "ename": "TypeError",
     "evalue": "'tuple' object does not support item assignment",
     "output_type": "error",
     "traceback": [
      "\u001b[1;31m---------------------------------------------------------------------------\u001b[0m",
      "\u001b[1;31mTypeError\u001b[0m                                 Traceback (most recent call last)",
      "\u001b[1;32m<ipython-input-14-96ab172d76da>\u001b[0m in \u001b[0;36m<module>\u001b[1;34m()\u001b[0m\n\u001b[0;32m      1\u001b[0m \u001b[0mvar\u001b[0m \u001b[1;33m=\u001b[0m \u001b[1;33m(\u001b[0m\u001b[1;36m12\u001b[0m\u001b[1;33m,\u001b[0m\u001b[1;36m89\u001b[0m\u001b[1;33m,\u001b[0m\u001b[1;36m45\u001b[0m\u001b[1;33m)\u001b[0m\u001b[1;33m\u001b[0m\u001b[0m\n\u001b[0;32m      2\u001b[0m \u001b[1;32mprint\u001b[0m \u001b[0mvar\u001b[0m\u001b[1;33m\u001b[0m\u001b[0m\n\u001b[1;32m----> 3\u001b[1;33m \u001b[0mvar\u001b[0m\u001b[1;33m[\u001b[0m\u001b[1;36m1\u001b[0m\u001b[1;33m]\u001b[0m \u001b[1;33m=\u001b[0m \u001b[1;36m100\u001b[0m\u001b[1;33m\u001b[0m\u001b[0m\n\u001b[0m\u001b[0;32m      4\u001b[0m \u001b[1;32mprint\u001b[0m \u001b[0mvar\u001b[0m\u001b[1;33m\u001b[0m\u001b[0m\n",
      "\u001b[1;31mTypeError\u001b[0m: 'tuple' object does not support item assignment"
     ]
    }
   ],
   "source": [
    "# tuple is immutable\n",
    "var = (12,89,45)\n",
    "print var\n",
    "var[1] = 100\n",
    "print var"
   ]
  },
  {
   "cell_type": "code",
   "execution_count": 15,
   "metadata": {},
   "outputs": [
    {
     "name": "stdout",
     "output_type": "stream",
     "text": [
      "enter int data : 789\n",
      "789\n",
      "<type 'str'>\n"
     ]
    }
   ],
   "source": [
    "# raw_input() ---->> to read the data from keyboard\n",
    "var = raw_input(\"enter int data : \")\n",
    "print var\n",
    "print type(var)"
   ]
  },
  {
   "cell_type": "code",
   "execution_count": 16,
   "metadata": {},
   "outputs": [
    {
     "name": "stdout",
     "output_type": "stream",
     "text": [
      "enter float data : 78.65585\n",
      "78.65585\n",
      "<type 'str'>\n"
     ]
    }
   ],
   "source": [
    "# raw_input() ---->> to read the data from keyboard\n",
    "var = raw_input(\"enter float data : \")\n",
    "print var\n",
    "print type(var)"
   ]
  },
  {
   "cell_type": "code",
   "execution_count": 17,
   "metadata": {},
   "outputs": [
    {
     "name": "stdout",
     "output_type": "stream",
     "text": [
      "enter complex data : 45+6j\n",
      "45+6j\n",
      "<type 'str'>\n"
     ]
    }
   ],
   "source": [
    "# raw_input() ---->> to read the data from keyboard\n",
    "var = raw_input(\"enter complex data : \")\n",
    "print var\n",
    "print type(var)"
   ]
  },
  {
   "cell_type": "code",
   "execution_count": 18,
   "metadata": {},
   "outputs": [
    {
     "name": "stdout",
     "output_type": "stream",
     "text": [
      "enter int data : 789\n",
      "789\n",
      "<type 'int'>\n"
     ]
    }
   ],
   "source": [
    "# input() --->>> To read the data from keyboard\n",
    "var =input(\"enter int data : \")\n",
    "print var\n",
    "print type(var)"
   ]
  },
  {
   "cell_type": "code",
   "execution_count": 19,
   "metadata": {},
   "outputs": [
    {
     "name": "stdout",
     "output_type": "stream",
     "text": [
      "enter float data : 78.99313534\n",
      "78.99313534\n",
      "<type 'float'>\n"
     ]
    }
   ],
   "source": [
    "# input() --->>> To read the data from keyboard\n",
    "var =input(\"enter float data : \")\n",
    "print var\n",
    "print type(var)"
   ]
  },
  {
   "cell_type": "code",
   "execution_count": 20,
   "metadata": {},
   "outputs": [
    {
     "name": "stdout",
     "output_type": "stream",
     "text": [
      "enter complex data : 7+5j\n",
      "(7+5j)\n",
      "<type 'complex'>\n"
     ]
    }
   ],
   "source": [
    "# input() --->>> To read the data from keyboard\n",
    "var =input(\"enter complex data : \")\n",
    "print var\n",
    "print type(var)"
   ]
  },
  {
   "cell_type": "code",
   "execution_count": null,
   "metadata": {},
   "outputs": [],
   "source": [
    "# read bool with input & raw_input and show the datatype\n",
    "# read None with input & raw_input and show the datatype\n",
    "# read str with input & raw_input and show the datatype\n",
    "# read list with input & raw_input and show the datatype\n",
    "# read tuple with input & raw_input and show the datatype\n",
    "# read set with input & raw_input and show the datatype\n",
    "# read dict with input & raw_input and show the datatype\n"
   ]
  },
  {
   "cell_type": "code",
   "execution_count": 1,
   "metadata": {},
   "outputs": [
    {
     "name": "stdout",
     "output_type": "stream",
     "text": [
      "<type 'int'>\n",
      "10\n",
      "38700096\n"
     ]
    }
   ],
   "source": [
    "b = 10\n",
    "print(type(b))\n",
    "print(b)\n",
    "print(id(b))"
   ]
  },
  {
   "cell_type": "code",
   "execution_count": 2,
   "metadata": {},
   "outputs": [
    {
     "name": "stdout",
     "output_type": "stream",
     "text": [
      "enter float : 12.45436536356\n",
      "12.4543653636\n",
      "<type 'float'>\n",
      "12\n",
      "<type 'int'>\n"
     ]
    }
   ],
   "source": [
    "# input()\n",
    "# raw_input()\n",
    "# print()\n",
    "# id()\n",
    "# type()\n",
    "\n",
    "#### daatatype conversion function ######\n",
    "\n",
    "# int() --->> to  convert any datatype to int datatype\n",
    "# float() -->> to convert any datatype to float datatype\n",
    "# bool()\n",
    "# complex()\n",
    "# str()\n",
    "# list()\n",
    "# tuple()\n",
    "# set()\n",
    "# dict()\n",
    "\n",
    "###############int()##########\n",
    "'''\n",
    "float daata  --> int() ---> success \n",
    "complex daata -> int() ---> TypeError: can't convert complex to int\n",
    "bool data   ---> int() ---> Success\n",
    "None daata  ---> int() ---> TypeError: int() argument must be a string or a number, not 'NoneType'\n",
    "str  data  ----> int() ---> if str contains only digits then converts otherwise Value ERROR\n",
    "list data  ----> int() ---> TypeError: can't convert list to int\n",
    "tuple data ----> int() ---> TypeError: can't convert tuple to int\n",
    "set data  -----> int() ---> TypeError: can't convert set to int\n",
    "dict data  ----> int() ---> TypeError: can't convert dict to int\n",
    "'''\n",
    "var  =  input(\"enter float : \")\n",
    "print var\n",
    "print type(var)\n",
    "var  = int(var)\n",
    "print var\n",
    "print type(var)"
   ]
  },
  {
   "cell_type": "code",
   "execution_count": 3,
   "metadata": {},
   "outputs": [
    {
     "name": "stdout",
     "output_type": "stream",
     "text": [
      "enter complex : 12+45j\n",
      "(12+45j)\n",
      "<type 'complex'>\n"
     ]
    },
    {
     "ename": "TypeError",
     "evalue": "can't convert complex to int",
     "output_type": "error",
     "traceback": [
      "\u001b[1;31m---------------------------------------------------------------------------\u001b[0m",
      "\u001b[1;31mTypeError\u001b[0m                                 Traceback (most recent call last)",
      "\u001b[1;32m<ipython-input-3-162bccdfee1d>\u001b[0m in \u001b[0;36m<module>\u001b[1;34m()\u001b[0m\n\u001b[0;32m      2\u001b[0m \u001b[1;32mprint\u001b[0m \u001b[0mvar\u001b[0m\u001b[1;33m\u001b[0m\u001b[0m\n\u001b[0;32m      3\u001b[0m \u001b[1;32mprint\u001b[0m \u001b[0mtype\u001b[0m\u001b[1;33m(\u001b[0m\u001b[0mvar\u001b[0m\u001b[1;33m)\u001b[0m\u001b[1;33m\u001b[0m\u001b[0m\n\u001b[1;32m----> 4\u001b[1;33m \u001b[0mvar\u001b[0m  \u001b[1;33m=\u001b[0m \u001b[0mint\u001b[0m\u001b[1;33m(\u001b[0m\u001b[0mvar\u001b[0m\u001b[1;33m)\u001b[0m\u001b[1;33m\u001b[0m\u001b[0m\n\u001b[0m\u001b[0;32m      5\u001b[0m \u001b[1;32mprint\u001b[0m \u001b[0mvar\u001b[0m\u001b[1;33m\u001b[0m\u001b[0m\n\u001b[0;32m      6\u001b[0m \u001b[1;32mprint\u001b[0m \u001b[0mtype\u001b[0m\u001b[1;33m(\u001b[0m\u001b[0mvar\u001b[0m\u001b[1;33m)\u001b[0m\u001b[1;33m\u001b[0m\u001b[0m\n",
      "\u001b[1;31mTypeError\u001b[0m: can't convert complex to int"
     ]
    }
   ],
   "source": [
    "var  =  input(\"enter complex : \")\n",
    "print var\n",
    "print type(var)\n",
    "var  = int(var)\n",
    "print var\n",
    "print type(var)"
   ]
  },
  {
   "cell_type": "code",
   "execution_count": 4,
   "metadata": {},
   "outputs": [
    {
     "name": "stdout",
     "output_type": "stream",
     "text": [
      "enter True  : True\n",
      "True\n",
      "<type 'bool'>\n",
      "1\n",
      "<type 'int'>\n",
      "enter False : False\n",
      "False\n",
      "<type 'bool'>\n",
      "0\n",
      "<type 'int'>\n"
     ]
    }
   ],
   "source": [
    "var  =  input(\"enter True  : \")\n",
    "print var\n",
    "print type(var)\n",
    "var  = int(var)\n",
    "print var\n",
    "print type(var)\n",
    "\n",
    "var  =  input(\"enter False : \")\n",
    "print var\n",
    "print type(var)\n",
    "var  = int(var)\n",
    "print var\n",
    "print type(var)"
   ]
  },
  {
   "cell_type": "code",
   "execution_count": 5,
   "metadata": {},
   "outputs": [
    {
     "name": "stdout",
     "output_type": "stream",
     "text": [
      "enter None  : None\n",
      "None\n",
      "<type 'NoneType'>\n"
     ]
    },
    {
     "ename": "TypeError",
     "evalue": "int() argument must be a string or a number, not 'NoneType'",
     "output_type": "error",
     "traceback": [
      "\u001b[1;31m---------------------------------------------------------------------------\u001b[0m",
      "\u001b[1;31mTypeError\u001b[0m                                 Traceback (most recent call last)",
      "\u001b[1;32m<ipython-input-5-b49388d9f877>\u001b[0m in \u001b[0;36m<module>\u001b[1;34m()\u001b[0m\n\u001b[0;32m      2\u001b[0m \u001b[1;32mprint\u001b[0m \u001b[0mvar\u001b[0m\u001b[1;33m\u001b[0m\u001b[0m\n\u001b[0;32m      3\u001b[0m \u001b[1;32mprint\u001b[0m \u001b[0mtype\u001b[0m\u001b[1;33m(\u001b[0m\u001b[0mvar\u001b[0m\u001b[1;33m)\u001b[0m\u001b[1;33m\u001b[0m\u001b[0m\n\u001b[1;32m----> 4\u001b[1;33m \u001b[0mvar\u001b[0m  \u001b[1;33m=\u001b[0m \u001b[0mint\u001b[0m\u001b[1;33m(\u001b[0m\u001b[0mvar\u001b[0m\u001b[1;33m)\u001b[0m\u001b[1;33m\u001b[0m\u001b[0m\n\u001b[0m\u001b[0;32m      5\u001b[0m \u001b[1;32mprint\u001b[0m \u001b[0mvar\u001b[0m\u001b[1;33m\u001b[0m\u001b[0m\n\u001b[0;32m      6\u001b[0m \u001b[1;32mprint\u001b[0m \u001b[0mtype\u001b[0m\u001b[1;33m(\u001b[0m\u001b[0mvar\u001b[0m\u001b[1;33m)\u001b[0m\u001b[1;33m\u001b[0m\u001b[0m\n",
      "\u001b[1;31mTypeError\u001b[0m: int() argument must be a string or a number, not 'NoneType'"
     ]
    }
   ],
   "source": [
    "var  =  input(\"enter None  : \")\n",
    "print var\n",
    "print type(var)\n",
    "var  = int(var)\n",
    "print var\n",
    "print type(var)"
   ]
  },
  {
   "cell_type": "code",
   "execution_count": 1,
   "metadata": {},
   "outputs": [
    {
     "name": "stdout",
     "output_type": "stream",
     "text": [
      "enter str : \"123345\"\n",
      "123345\n",
      "<type 'str'>\n",
      "123345\n",
      "<type 'int'>\n"
     ]
    }
   ],
   "source": [
    "var  =  input(\"enter str : \")\n",
    "print var\n",
    "print type(var)\n",
    "var  = int(var)\n",
    "print var\n",
    "print type(var)"
   ]
  },
  {
   "cell_type": "code",
   "execution_count": 2,
   "metadata": {},
   "outputs": [
    {
     "name": "stdout",
     "output_type": "stream",
     "text": [
      "enter str : \"213232e\"\n",
      "213232e\n",
      "<type 'str'>\n"
     ]
    },
    {
     "ename": "ValueError",
     "evalue": "invalid literal for int() with base 10: '213232e'",
     "output_type": "error",
     "traceback": [
      "\u001b[1;31m---------------------------------------------------------------------------\u001b[0m",
      "\u001b[1;31mValueError\u001b[0m                                Traceback (most recent call last)",
      "\u001b[1;32m<ipython-input-2-b2edff5e88a3>\u001b[0m in \u001b[0;36m<module>\u001b[1;34m()\u001b[0m\n\u001b[0;32m      2\u001b[0m \u001b[1;32mprint\u001b[0m \u001b[0mvar\u001b[0m\u001b[1;33m\u001b[0m\u001b[0m\n\u001b[0;32m      3\u001b[0m \u001b[1;32mprint\u001b[0m \u001b[0mtype\u001b[0m\u001b[1;33m(\u001b[0m\u001b[0mvar\u001b[0m\u001b[1;33m)\u001b[0m\u001b[1;33m\u001b[0m\u001b[0m\n\u001b[1;32m----> 4\u001b[1;33m \u001b[0mvar\u001b[0m  \u001b[1;33m=\u001b[0m \u001b[0mint\u001b[0m\u001b[1;33m(\u001b[0m\u001b[0mvar\u001b[0m\u001b[1;33m)\u001b[0m\u001b[1;33m\u001b[0m\u001b[0m\n\u001b[0m\u001b[0;32m      5\u001b[0m \u001b[1;32mprint\u001b[0m \u001b[0mvar\u001b[0m\u001b[1;33m\u001b[0m\u001b[0m\n\u001b[0;32m      6\u001b[0m \u001b[1;32mprint\u001b[0m \u001b[0mtype\u001b[0m\u001b[1;33m(\u001b[0m\u001b[0mvar\u001b[0m\u001b[1;33m)\u001b[0m\u001b[1;33m\u001b[0m\u001b[0m\n",
      "\u001b[1;31mValueError\u001b[0m: invalid literal for int() with base 10: '213232e'"
     ]
    }
   ],
   "source": [
    "var  =  input(\"enter str : \")\n",
    "print var\n",
    "print type(var)\n",
    "var  = int(var)\n",
    "print var\n",
    "print type(var)"
   ]
  },
  {
   "cell_type": "code",
   "execution_count": 3,
   "metadata": {},
   "outputs": [
    {
     "name": "stdout",
     "output_type": "stream",
     "text": [
      "enter list : [1,2,3]\n",
      "[1, 2, 3]\n",
      "<type 'list'>\n"
     ]
    },
    {
     "ename": "TypeError",
     "evalue": "int() argument must be a string or a number, not 'list'",
     "output_type": "error",
     "traceback": [
      "\u001b[1;31m---------------------------------------------------------------------------\u001b[0m",
      "\u001b[1;31mTypeError\u001b[0m                                 Traceback (most recent call last)",
      "\u001b[1;32m<ipython-input-3-a5ce690993bc>\u001b[0m in \u001b[0;36m<module>\u001b[1;34m()\u001b[0m\n\u001b[0;32m      2\u001b[0m \u001b[1;32mprint\u001b[0m \u001b[0mvar\u001b[0m\u001b[1;33m\u001b[0m\u001b[0m\n\u001b[0;32m      3\u001b[0m \u001b[1;32mprint\u001b[0m \u001b[0mtype\u001b[0m\u001b[1;33m(\u001b[0m\u001b[0mvar\u001b[0m\u001b[1;33m)\u001b[0m\u001b[1;33m\u001b[0m\u001b[0m\n\u001b[1;32m----> 4\u001b[1;33m \u001b[0mvar\u001b[0m  \u001b[1;33m=\u001b[0m \u001b[0mint\u001b[0m\u001b[1;33m(\u001b[0m\u001b[0mvar\u001b[0m\u001b[1;33m)\u001b[0m\u001b[1;33m\u001b[0m\u001b[0m\n\u001b[0m\u001b[0;32m      5\u001b[0m \u001b[1;32mprint\u001b[0m \u001b[0mvar\u001b[0m\u001b[1;33m\u001b[0m\u001b[0m\n\u001b[0;32m      6\u001b[0m \u001b[1;32mprint\u001b[0m \u001b[0mtype\u001b[0m\u001b[1;33m(\u001b[0m\u001b[0mvar\u001b[0m\u001b[1;33m)\u001b[0m\u001b[1;33m\u001b[0m\u001b[0m\n",
      "\u001b[1;31mTypeError\u001b[0m: int() argument must be a string or a number, not 'list'"
     ]
    }
   ],
   "source": [
    "var  =  input(\"enter list : \")\n",
    "print var\n",
    "print type(var)\n",
    "var  = int(var)\n",
    "print var\n",
    "print type(var)"
   ]
  },
  {
   "cell_type": "code",
   "execution_count": 4,
   "metadata": {},
   "outputs": [
    {
     "name": "stdout",
     "output_type": "stream",
     "text": [
      "enter tuple : (1,2,3)\n",
      "(1, 2, 3)\n",
      "<type 'tuple'>\n"
     ]
    },
    {
     "ename": "TypeError",
     "evalue": "int() argument must be a string or a number, not 'tuple'",
     "output_type": "error",
     "traceback": [
      "\u001b[1;31m---------------------------------------------------------------------------\u001b[0m",
      "\u001b[1;31mTypeError\u001b[0m                                 Traceback (most recent call last)",
      "\u001b[1;32m<ipython-input-4-8d532c52d818>\u001b[0m in \u001b[0;36m<module>\u001b[1;34m()\u001b[0m\n\u001b[0;32m      2\u001b[0m \u001b[1;32mprint\u001b[0m \u001b[0mvar\u001b[0m\u001b[1;33m\u001b[0m\u001b[0m\n\u001b[0;32m      3\u001b[0m \u001b[1;32mprint\u001b[0m \u001b[0mtype\u001b[0m\u001b[1;33m(\u001b[0m\u001b[0mvar\u001b[0m\u001b[1;33m)\u001b[0m\u001b[1;33m\u001b[0m\u001b[0m\n\u001b[1;32m----> 4\u001b[1;33m \u001b[0mvar\u001b[0m  \u001b[1;33m=\u001b[0m \u001b[0mint\u001b[0m\u001b[1;33m(\u001b[0m\u001b[0mvar\u001b[0m\u001b[1;33m)\u001b[0m\u001b[1;33m\u001b[0m\u001b[0m\n\u001b[0m\u001b[0;32m      5\u001b[0m \u001b[1;32mprint\u001b[0m \u001b[0mvar\u001b[0m\u001b[1;33m\u001b[0m\u001b[0m\n\u001b[0;32m      6\u001b[0m \u001b[1;32mprint\u001b[0m \u001b[0mtype\u001b[0m\u001b[1;33m(\u001b[0m\u001b[0mvar\u001b[0m\u001b[1;33m)\u001b[0m\u001b[1;33m\u001b[0m\u001b[0m\n",
      "\u001b[1;31mTypeError\u001b[0m: int() argument must be a string or a number, not 'tuple'"
     ]
    }
   ],
   "source": [
    "var  =  input(\"enter tuple : \")\n",
    "print var\n",
    "print type(var)\n",
    "var  = int(var)\n",
    "print var\n",
    "print type(var)"
   ]
  },
  {
   "cell_type": "code",
   "execution_count": 5,
   "metadata": {},
   "outputs": [
    {
     "name": "stdout",
     "output_type": "stream",
     "text": [
      "enter set : {1,2,3}\n",
      "set([1, 2, 3])\n",
      "<type 'set'>\n"
     ]
    },
    {
     "ename": "TypeError",
     "evalue": "int() argument must be a string or a number, not 'set'",
     "output_type": "error",
     "traceback": [
      "\u001b[1;31m---------------------------------------------------------------------------\u001b[0m",
      "\u001b[1;31mTypeError\u001b[0m                                 Traceback (most recent call last)",
      "\u001b[1;32m<ipython-input-5-5e718273e89b>\u001b[0m in \u001b[0;36m<module>\u001b[1;34m()\u001b[0m\n\u001b[0;32m      2\u001b[0m \u001b[1;32mprint\u001b[0m \u001b[0mvar\u001b[0m\u001b[1;33m\u001b[0m\u001b[0m\n\u001b[0;32m      3\u001b[0m \u001b[1;32mprint\u001b[0m \u001b[0mtype\u001b[0m\u001b[1;33m(\u001b[0m\u001b[0mvar\u001b[0m\u001b[1;33m)\u001b[0m\u001b[1;33m\u001b[0m\u001b[0m\n\u001b[1;32m----> 4\u001b[1;33m \u001b[0mvar\u001b[0m  \u001b[1;33m=\u001b[0m \u001b[0mint\u001b[0m\u001b[1;33m(\u001b[0m\u001b[0mvar\u001b[0m\u001b[1;33m)\u001b[0m\u001b[1;33m\u001b[0m\u001b[0m\n\u001b[0m\u001b[0;32m      5\u001b[0m \u001b[1;32mprint\u001b[0m \u001b[0mvar\u001b[0m\u001b[1;33m\u001b[0m\u001b[0m\n\u001b[0;32m      6\u001b[0m \u001b[1;32mprint\u001b[0m \u001b[0mtype\u001b[0m\u001b[1;33m(\u001b[0m\u001b[0mvar\u001b[0m\u001b[1;33m)\u001b[0m\u001b[1;33m\u001b[0m\u001b[0m\n",
      "\u001b[1;31mTypeError\u001b[0m: int() argument must be a string or a number, not 'set'"
     ]
    }
   ],
   "source": [
    "var  =  input(\"enter set : \")\n",
    "print var\n",
    "print type(var)\n",
    "var  = int(var)\n",
    "print var\n",
    "print type(var)"
   ]
  },
  {
   "cell_type": "code",
   "execution_count": 6,
   "metadata": {},
   "outputs": [
    {
     "name": "stdout",
     "output_type": "stream",
     "text": [
      "enter dic  : {12:\"34\"}\n",
      "{12: '34'}\n",
      "<type 'dict'>\n"
     ]
    },
    {
     "ename": "TypeError",
     "evalue": "int() argument must be a string or a number, not 'dict'",
     "output_type": "error",
     "traceback": [
      "\u001b[1;31m---------------------------------------------------------------------------\u001b[0m",
      "\u001b[1;31mTypeError\u001b[0m                                 Traceback (most recent call last)",
      "\u001b[1;32m<ipython-input-6-6d50e42ffe70>\u001b[0m in \u001b[0;36m<module>\u001b[1;34m()\u001b[0m\n\u001b[0;32m      2\u001b[0m \u001b[1;32mprint\u001b[0m \u001b[0mvar\u001b[0m\u001b[1;33m\u001b[0m\u001b[0m\n\u001b[0;32m      3\u001b[0m \u001b[1;32mprint\u001b[0m \u001b[0mtype\u001b[0m\u001b[1;33m(\u001b[0m\u001b[0mvar\u001b[0m\u001b[1;33m)\u001b[0m\u001b[1;33m\u001b[0m\u001b[0m\n\u001b[1;32m----> 4\u001b[1;33m \u001b[0mvar\u001b[0m  \u001b[1;33m=\u001b[0m \u001b[0mint\u001b[0m\u001b[1;33m(\u001b[0m\u001b[0mvar\u001b[0m\u001b[1;33m)\u001b[0m\u001b[1;33m\u001b[0m\u001b[0m\n\u001b[0m\u001b[0;32m      5\u001b[0m \u001b[1;32mprint\u001b[0m \u001b[0mvar\u001b[0m\u001b[1;33m\u001b[0m\u001b[0m\n\u001b[0;32m      6\u001b[0m \u001b[1;32mprint\u001b[0m \u001b[0mtype\u001b[0m\u001b[1;33m(\u001b[0m\u001b[0mvar\u001b[0m\u001b[1;33m)\u001b[0m\u001b[1;33m\u001b[0m\u001b[0m\n",
      "\u001b[1;31mTypeError\u001b[0m: int() argument must be a string or a number, not 'dict'"
     ]
    }
   ],
   "source": [
    "var  =  input(\"enter dic  : \")\n",
    "print var\n",
    "print type(var)\n",
    "var  = int(var)\n",
    "print var\n",
    "print type(var)"
   ]
  },
  {
   "cell_type": "code",
   "execution_count": 8,
   "metadata": {},
   "outputs": [
    {
     "name": "stdout",
     "output_type": "stream",
     "text": [
      "enter int : 1245\n",
      "1245\n",
      "<type 'int'>\n",
      "1245.0\n",
      "<type 'float'>\n"
     ]
    }
   ],
   "source": [
    "###############float()##########\n",
    "'''\n",
    "int  daata  ---> float() ---> success \n",
    "complex daata -> float() ---> TypeError: can't convert complex to int\n",
    "bool data   ---> float() ---> Success\n",
    "None daata  ---> float() ---> TypeError: int() argument must be a string or a number, not 'NoneType'\n",
    "str  data  ----> float() ---> if str contains only digits then converts otherwise Value ERROR\n",
    "list data  ----> float()) ---> TypeError: can't convert list to int\n",
    "tuple data ----> float() ---> TypeError: can't convert tuple to int\n",
    "set data  -----> float() ---> TypeError: can't convert set to int\n",
    "dict data  ----> float() ---> TypeError: can't convert dict to int\n",
    "'''\n",
    "var  =  input(\"enter int : \")\n",
    "print var\n",
    "print type(var)\n",
    "var  = float(var)\n",
    "print var\n",
    "print type(var)"
   ]
  },
  {
   "cell_type": "code",
   "execution_count": null,
   "metadata": {},
   "outputs": [],
   "source": []
  },
  {
   "cell_type": "code",
   "execution_count": null,
   "metadata": {},
   "outputs": [],
   "source": []
  }
 ],
 "metadata": {
  "kernelspec": {
   "display_name": "Python 2",
   "language": "python",
   "name": "python2"
  },
  "language_info": {
   "codemirror_mode": {
    "name": "ipython",
    "version": 2
   },
   "file_extension": ".py",
   "mimetype": "text/x-python",
   "name": "python",
   "nbconvert_exporter": "python",
   "pygments_lexer": "ipython2",
   "version": "2.7.16"
  }
 },
 "nbformat": 4,
 "nbformat_minor": 2
}
