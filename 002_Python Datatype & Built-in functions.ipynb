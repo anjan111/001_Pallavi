{
 "cells": [
  {
   "cell_type": "code",
   "execution_count": 1,
   "metadata": {},
   "outputs": [
    {
     "name": "stdout",
     "output_type": "stream",
     "text": [
      "<type 'int'>\n",
      "123\n",
      "50106624\n",
      "<type 'int'>\n",
      "-123\n",
      "78964216\n",
      "<type 'int'>\n",
      "0\n",
      "50103600\n"
     ]
    }
   ],
   "source": [
    "# Datatype \n",
    "'''\n",
    "==>> Variables are holding  data\n",
    "==>> To specify the what type of data holded by variable\n",
    "\n",
    "==>> There are 2 types of datatypes \n",
    "\n",
    "1. Fundamental Dataype\n",
    " ===>>  A single variable can hold single daata element\n",
    "     1. int\n",
    "     2. float\n",
    "     3. bool\n",
    "     4. None\n",
    "     5. complex\n",
    "\n",
    "2. Sequencial Datatype\n",
    "'''\n",
    "# int datatype\n",
    "# type() ---->>> To know the daatatype of variable\n",
    "# id()  - --->>  To know the memory location\n",
    "var = 123\n",
    "print type(var)\n",
    "print var\n",
    "print id(var)\n",
    "\n",
    "a   = -123\n",
    "print type(a)\n",
    "print a\n",
    "print id(a)\n",
    "\n",
    "b  = 0\n",
    "print type(b)\n",
    "print b\n",
    "print id(b)"
   ]
  },
  {
   "cell_type": "code",
   "execution_count": 2,
   "metadata": {},
   "outputs": [
    {
     "name": "stdout",
     "output_type": "stream",
     "text": [
      "<type 'float'>\n",
      "12.5453\n",
      "78956608\n",
      "<type 'float'>\n",
      "-12.23213\n",
      "78956680\n",
      "<type 'float'>\n",
      "0.0\n",
      "78956656\n"
     ]
    }
   ],
   "source": [
    "# float datatype  ---->> real decimal point number\n",
    "# type() ---->>> To know the daatatype of variable\n",
    "# id()  - --->>  To know the memory location\n",
    "var = 12.5453\n",
    "print type(var)\n",
    "print var\n",
    "print id(var)\n",
    "\n",
    "a   = -12.23213\n",
    "print type(a)\n",
    "print a\n",
    "print id(a)\n",
    "\n",
    "b  = 0.0\n",
    "print type(b)\n",
    "print b\n",
    "print id(b)"
   ]
  },
  {
   "cell_type": "code",
   "execution_count": 3,
   "metadata": {},
   "outputs": [
    {
     "name": "stdout",
     "output_type": "stream",
     "text": [
      "<type 'bool'>\n",
      "True\n",
      "1915076328\n",
      "<type 'bool'>\n",
      "False\n",
      "1915075912\n"
     ]
    }
   ],
   "source": [
    "# bool  --->>> True   / False\n",
    "var = True\n",
    "print type(var)\n",
    "print var\n",
    "print id(var)\n",
    "\n",
    "b = False\n",
    "print type(b)\n",
    "print b\n",
    "print id(b)"
   ]
  },
  {
   "cell_type": "code",
   "execution_count": 4,
   "metadata": {},
   "outputs": [
    {
     "name": "stdout",
     "output_type": "stream",
     "text": [
      "<type 'NoneType'>\n",
      "None\n",
      "1915030648\n"
     ]
    }
   ],
   "source": [
    "# None Type   \n",
    "var = None  #No daata\n",
    "print type(var)\n",
    "print var\n",
    "print id(var)"
   ]
  },
  {
   "cell_type": "code",
   "execution_count": 5,
   "metadata": {},
   "outputs": [
    {
     "name": "stdout",
     "output_type": "stream",
     "text": [
      "<type 'complex'>\n",
      "(7+4j)\n",
      "79764432\n"
     ]
    }
   ],
   "source": [
    "# complex  ---->>>  real + img  --->> X + Yj\n",
    "var = 7 + 4j\n",
    "print type(var)\n",
    "print var\n",
    "print id(var)"
   ]
  },
  {
   "cell_type": "code",
   "execution_count": 6,
   "metadata": {},
   "outputs": [
    {
     "name": "stdout",
     "output_type": "stream",
     "text": [
      "<type 'complex'>\n",
      "(7+56j)\n",
      "79764592\n"
     ]
    }
   ],
   "source": [
    "var = 7 + 56j\n",
    "print type(var)\n",
    "print var\n",
    "print id(var)"
   ]
  },
  {
   "cell_type": "code",
   "execution_count": 7,
   "metadata": {},
   "outputs": [
    {
     "name": "stdout",
     "output_type": "stream",
     "text": [
      "<type 'str'>\n",
      "python program\n",
      "86193712\n"
     ]
    }
   ],
   "source": [
    "# Sequencial Datatype\n",
    "'''\n",
    "A Single variable can hold multiple data elements\n",
    "1.  str======>>>  \" \"\n",
    "2.  list=====>>>  []\n",
    "3.  tuple====>>>  ()\n",
    "4.  set======>>>  {}\n",
    "5.  dict=====>>>  {}\n",
    "'''\n",
    "# collecion of characters with in double quotes\n",
    "var = \"python program\"\n",
    "print type(var)\n",
    "print var\n",
    "print id(var)"
   ]
  },
  {
   "cell_type": "code",
   "execution_count": 8,
   "metadata": {},
   "outputs": [
    {
     "name": "stdout",
     "output_type": "stream",
     "text": [
      "<type 'list'>\n",
      "[12, 3.45, True, None, (2+4j)]\n",
      "79861768\n"
     ]
    }
   ],
   "source": [
    "# collection of dissimular data type elements with in []\n",
    "var = [12 , 3.45 , True , None , 2+4j]\n",
    "print type(var)\n",
    "print var\n",
    "print id(var)"
   ]
  },
  {
   "cell_type": "code",
   "execution_count": 9,
   "metadata": {},
   "outputs": [
    {
     "name": "stdout",
     "output_type": "stream",
     "text": [
      "<type 'tuple'>\n",
      "(12, 3.45, True, None, (2+4j))\n",
      "85956128\n"
     ]
    }
   ],
   "source": [
    "# collection of dissimular data type elements with in ()\n",
    "var = (12 , 3.45 , True , None , 2+4j)\n",
    "print type(var)\n",
    "print var\n",
    "print id(var)"
   ]
  },
  {
   "cell_type": "code",
   "execution_count": 10,
   "metadata": {},
   "outputs": [
    {
     "name": "stdout",
     "output_type": "stream",
     "text": [
      "<type 'set'>\n",
      "set([True, 12, (2+4j), 3.45, None])\n",
      "76361288\n"
     ]
    }
   ],
   "source": [
    "# collection of dissimular data type elements with in {}\n",
    "var = {12 , 3.45 , True , None , 2+4j}\n",
    "print type(var)\n",
    "print var\n",
    "print id(var)"
   ]
  },
  {
   "cell_type": "code",
   "execution_count": 11,
   "metadata": {},
   "outputs": [
    {
     "name": "stdout",
     "output_type": "stream",
     "text": [
      "<type 'dict'>\n",
      "{'key2': 'value2', 'key1 ': 'value1'}\n",
      "86215400\n"
     ]
    }
   ],
   "source": [
    "# collection of dissimular data type items ( key : value) with in {}\n",
    "var = { \"key1 \" : \"value1\" , \"key2\" : \"value2\"}\n",
    "print type(var)\n",
    "print var\n",
    "print id(var)"
   ]
  },
  {
   "cell_type": "code",
   "execution_count": 12,
   "metadata": {},
   "outputs": [
    {
     "name": "stdout",
     "output_type": "stream",
     "text": [
      "{'SS06': 'Shaligram', 'SS07': 'pallavi', 'SS04': 'Prudhvi', 'SS05': 'pravin', 'SS02': 'Mani', 'SS01': 'Anjan Kumar'}\n",
      "<type 'dict'>\n",
      "86205848\n"
     ]
    }
   ],
   "source": [
    "employee = {\"SS01\" : \"Anjan Kumar\" , \"SS05\" : \"pravin\" , \"SS04\": \"Prudhvi\", \"SS02\":\"Mani\",\"SS06\":\"Shaligram\" , \"SS07\":\"pallavi\"}\n",
    "print employee\n",
    "print type(employee)\n",
    "print id(employee)"
   ]
  },
  {
   "cell_type": "code",
   "execution_count": 13,
   "metadata": {},
   "outputs": [
    {
     "name": "stdout",
     "output_type": "stream",
     "text": [
      "[12, 89, 45]\n",
      "[12, 100, 45]\n"
     ]
    }
   ],
   "source": [
    "# list is muable\n",
    "var = [12,89,45]\n",
    "print var\n",
    "var[1] = 100\n",
    "print var"
   ]
  },
  {
   "cell_type": "code",
   "execution_count": 14,
   "metadata": {},
   "outputs": [
    {
     "name": "stdout",
     "output_type": "stream",
     "text": [
      "(12, 89, 45)\n"
     ]
    },
    {
     "ename": "TypeError",
     "evalue": "'tuple' object does not support item assignment",
     "output_type": "error",
     "traceback": [
      "\u001b[1;31m---------------------------------------------------------------------------\u001b[0m",
      "\u001b[1;31mTypeError\u001b[0m                                 Traceback (most recent call last)",
      "\u001b[1;32m<ipython-input-14-96ab172d76da>\u001b[0m in \u001b[0;36m<module>\u001b[1;34m()\u001b[0m\n\u001b[0;32m      1\u001b[0m \u001b[0mvar\u001b[0m \u001b[1;33m=\u001b[0m \u001b[1;33m(\u001b[0m\u001b[1;36m12\u001b[0m\u001b[1;33m,\u001b[0m\u001b[1;36m89\u001b[0m\u001b[1;33m,\u001b[0m\u001b[1;36m45\u001b[0m\u001b[1;33m)\u001b[0m\u001b[1;33m\u001b[0m\u001b[0m\n\u001b[0;32m      2\u001b[0m \u001b[1;32mprint\u001b[0m \u001b[0mvar\u001b[0m\u001b[1;33m\u001b[0m\u001b[0m\n\u001b[1;32m----> 3\u001b[1;33m \u001b[0mvar\u001b[0m\u001b[1;33m[\u001b[0m\u001b[1;36m1\u001b[0m\u001b[1;33m]\u001b[0m \u001b[1;33m=\u001b[0m \u001b[1;36m100\u001b[0m\u001b[1;33m\u001b[0m\u001b[0m\n\u001b[0m\u001b[0;32m      4\u001b[0m \u001b[1;32mprint\u001b[0m \u001b[0mvar\u001b[0m\u001b[1;33m\u001b[0m\u001b[0m\n",
      "\u001b[1;31mTypeError\u001b[0m: 'tuple' object does not support item assignment"
     ]
    }
   ],
   "source": [
    "# tuple is immutable\n",
    "var = (12,89,45)\n",
    "print var\n",
    "var[1] = 100\n",
    "print var"
   ]
  },
  {
   "cell_type": "code",
   "execution_count": 15,
   "metadata": {},
   "outputs": [
    {
     "name": "stdout",
     "output_type": "stream",
     "text": [
      "enter int data : 789\n",
      "789\n",
      "<type 'str'>\n"
     ]
    }
   ],
   "source": [
    "# raw_input() ---->> to read the data from keyboard\n",
    "var = raw_input(\"enter int data : \")\n",
    "print var\n",
    "print type(var)"
   ]
  },
  {
   "cell_type": "code",
   "execution_count": 16,
   "metadata": {},
   "outputs": [
    {
     "name": "stdout",
     "output_type": "stream",
     "text": [
      "enter float data : 78.65585\n",
      "78.65585\n",
      "<type 'str'>\n"
     ]
    }
   ],
   "source": [
    "# raw_input() ---->> to read the data from keyboard\n",
    "var = raw_input(\"enter float data : \")\n",
    "print var\n",
    "print type(var)"
   ]
  },
  {
   "cell_type": "code",
   "execution_count": 17,
   "metadata": {},
   "outputs": [
    {
     "name": "stdout",
     "output_type": "stream",
     "text": [
      "enter complex data : 45+6j\n",
      "45+6j\n",
      "<type 'str'>\n"
     ]
    }
   ],
   "source": [
    "# raw_input() ---->> to read the data from keyboard\n",
    "var = raw_input(\"enter complex data : \")\n",
    "print var\n",
    "print type(var)"
   ]
  },
  {
   "cell_type": "code",
   "execution_count": 18,
   "metadata": {},
   "outputs": [
    {
     "name": "stdout",
     "output_type": "stream",
     "text": [
      "enter int data : 789\n",
      "789\n",
      "<type 'int'>\n"
     ]
    }
   ],
   "source": [
    "# input() --->>> To read the data from keyboard\n",
    "var =input(\"enter int data : \")\n",
    "print var\n",
    "print type(var)"
   ]
  },
  {
   "cell_type": "code",
   "execution_count": 19,
   "metadata": {},
   "outputs": [
    {
     "name": "stdout",
     "output_type": "stream",
     "text": [
      "enter float data : 78.99313534\n",
      "78.99313534\n",
      "<type 'float'>\n"
     ]
    }
   ],
   "source": [
    "# input() --->>> To read the data from keyboard\n",
    "var =input(\"enter float data : \")\n",
    "print var\n",
    "print type(var)"
   ]
  },
  {
   "cell_type": "code",
   "execution_count": 20,
   "metadata": {},
   "outputs": [
    {
     "name": "stdout",
     "output_type": "stream",
     "text": [
      "enter complex data : 7+5j\n",
      "(7+5j)\n",
      "<type 'complex'>\n"
     ]
    }
   ],
   "source": [
    "# input() --->>> To read the data from keyboard\n",
    "var =input(\"enter complex data : \")\n",
    "print var\n",
    "print type(var)"
   ]
  },
  {
   "cell_type": "code",
   "execution_count": null,
   "metadata": {},
   "outputs": [],
   "source": [
    "# read bool with input & raw_input and show the datatype\n",
    "# read None with input & raw_input and show the datatype\n",
    "# read str with input & raw_input and show the datatype\n",
    "# read list with input & raw_input and show the datatype\n",
    "# read tuple with input & raw_input and show the datatype\n",
    "# read set with input & raw_input and show the datatype\n",
    "# read dict with input & raw_input and show the datatype\n"
   ]
  }
 ],
 "metadata": {
  "kernelspec": {
   "display_name": "Python 2",
   "language": "python",
   "name": "python2"
  },
  "language_info": {
   "codemirror_mode": {
    "name": "ipython",
    "version": 2
   },
   "file_extension": ".py",
   "mimetype": "text/x-python",
   "name": "python",
   "nbconvert_exporter": "python",
   "pygments_lexer": "ipython2",
   "version": "2.7.16"
  }
 },
 "nbformat": 4,
 "nbformat_minor": 2
}
