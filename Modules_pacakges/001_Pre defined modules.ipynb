{
 "cells": [
  {
   "cell_type": "code",
   "execution_count": 4,
   "metadata": {},
   "outputs": [
    {
     "name": "stdout",
     "output_type": "stream",
     "text": [
      "['__doc__', '__name__', '__package__', 'accept2dyear', 'altzone', 'asctime', 'clock', 'ctime', 'daylight', 'gmtime', 'localtime', 'mktime', 'sleep', 'strftime', 'strptime', 'struct_time', 'time', 'timezone', 'tzname']\n",
      "\n",
      "time\n",
      "This module provides various functions to manipulate time values.\n",
      "\n",
      "There are two standard representations of time.  One is the number\n",
      "of seconds since the Epoch, in UTC (a.k.a. GMT).  It may be an integer\n",
      "or a floating point number (to represent fractions of seconds).\n",
      "The Epoch is system-defined; on Unix, it is generally January 1st, 1970.\n",
      "The actual value can be retrieved by calling gmtime(0).\n",
      "\n",
      "The other representation is a tuple of 9 integers giving local time.\n",
      "The tuple items are:\n",
      "  year (four digits, e.g. 1998)\n",
      "  month (1-12)\n",
      "  day (1-31)\n",
      "  hours (0-23)\n",
      "  minutes (0-59)\n",
      "  seconds (0-59)\n",
      "  weekday (0-6, Monday is 0)\n",
      "  Julian day (day in the year, 1-366)\n",
      "  DST (Daylight Savings Time) flag (-1, 0 or 1)\n",
      "If the DST flag is 0, the time is given in the regular time zone;\n",
      "if it is 1, the time is given in the DST time zone;\n",
      "if it is -1, mktime() should guess based on the date and time.\n",
      "\n",
      "Variables:\n",
      "\n",
      "timezone -- difference in seconds between UTC and local standard time\n",
      "altzone -- difference in  seconds between UTC and local DST time\n",
      "daylight -- whether local time should reflect DST\n",
      "tzname -- tuple of (standard time zone name, DST time zone name)\n",
      "\n",
      "Functions:\n",
      "\n",
      "time() -- return current time in seconds since the Epoch as a float\n",
      "clock() -- return CPU time since process start as a float\n",
      "sleep() -- delay for a number of seconds given as a float\n",
      "gmtime() -- convert seconds since Epoch to UTC tuple\n",
      "localtime() -- convert seconds since Epoch to local time tuple\n",
      "asctime() -- convert time tuple to string\n",
      "ctime() -- convert time in seconds to string\n",
      "mktime() -- convert local time tuple to seconds since Epoch\n",
      "strftime() -- convert time tuple to string according to format specification\n",
      "strptime() -- parse string to time tuple according to format specification\n",
      "tzset() -- change the local timezone\n"
     ]
    }
   ],
   "source": [
    "# time \n",
    "import time\n",
    "print dir(time)\n",
    "print \n",
    "print time.__name__\n",
    "print time.__doc__ "
   ]
  },
  {
   "cell_type": "code",
   "execution_count": 2,
   "metadata": {},
   "outputs": [
    {
     "name": "stdout",
     "output_type": "stream",
     "text": [
      "Help on built-in module time:\n",
      "\n",
      "NAME\n",
      "    time - This module provides various functions to manipulate time values.\n",
      "\n",
      "FILE\n",
      "    (built-in)\n",
      "\n",
      "DESCRIPTION\n",
      "    There are two standard representations of time.  One is the number\n",
      "    of seconds since the Epoch, in UTC (a.k.a. GMT).  It may be an integer\n",
      "    or a floating point number (to represent fractions of seconds).\n",
      "    The Epoch is system-defined; on Unix, it is generally January 1st, 1970.\n",
      "    The actual value can be retrieved by calling gmtime(0).\n",
      "    \n",
      "    The other representation is a tuple of 9 integers giving local time.\n",
      "    The tuple items are:\n",
      "      year (four digits, e.g. 1998)\n",
      "      month (1-12)\n",
      "      day (1-31)\n",
      "      hours (0-23)\n",
      "      minutes (0-59)\n",
      "      seconds (0-59)\n",
      "      weekday (0-6, Monday is 0)\n",
      "      Julian day (day in the year, 1-366)\n",
      "      DST (Daylight Savings Time) flag (-1, 0 or 1)\n",
      "    If the DST flag is 0, the time is given in the regular time zone;\n",
      "    if it is 1, the time is given in the DST time zone;\n",
      "    if it is -1, mktime() should guess based on the date and time.\n",
      "    \n",
      "    Variables:\n",
      "    \n",
      "    timezone -- difference in seconds between UTC and local standard time\n",
      "    altzone -- difference in  seconds between UTC and local DST time\n",
      "    daylight -- whether local time should reflect DST\n",
      "    tzname -- tuple of (standard time zone name, DST time zone name)\n",
      "    \n",
      "    Functions:\n",
      "    \n",
      "    time() -- return current time in seconds since the Epoch as a float\n",
      "    clock() -- return CPU time since process start as a float\n",
      "    sleep() -- delay for a number of seconds given as a float\n",
      "    gmtime() -- convert seconds since Epoch to UTC tuple\n",
      "    localtime() -- convert seconds since Epoch to local time tuple\n",
      "    asctime() -- convert time tuple to string\n",
      "    ctime() -- convert time in seconds to string\n",
      "    mktime() -- convert local time tuple to seconds since Epoch\n",
      "    strftime() -- convert time tuple to string according to format specification\n",
      "    strptime() -- parse string to time tuple according to format specification\n",
      "    tzset() -- change the local timezone\n",
      "\n",
      "CLASSES\n",
      "    __builtin__.object\n",
      "        struct_time\n",
      "    \n",
      "    class struct_time(__builtin__.object)\n",
      "     |  The time value as returned by gmtime(), localtime(), and strptime(), and\n",
      "     |  accepted by asctime(), mktime() and strftime().  May be considered as a\n",
      "     |  sequence of 9 integers.\n",
      "     |  \n",
      "     |  Note that several fields' values are not the same as those defined by\n",
      "     |  the C language standard for struct tm.  For example, the value of the\n",
      "     |  field tm_year is the actual year, not year - 1900.  See individual\n",
      "     |  fields' descriptions for details.\n",
      "     |  \n",
      "     |  Methods defined here:\n",
      "     |  \n",
      "     |  __add__(...)\n",
      "     |      x.__add__(y) <==> x+y\n",
      "     |  \n",
      "     |  __contains__(...)\n",
      "     |      x.__contains__(y) <==> y in x\n",
      "     |  \n",
      "     |  __eq__(...)\n",
      "     |      x.__eq__(y) <==> x==y\n",
      "     |  \n",
      "     |  __ge__(...)\n",
      "     |      x.__ge__(y) <==> x>=y\n",
      "     |  \n",
      "     |  __getitem__(...)\n",
      "     |      x.__getitem__(y) <==> x[y]\n",
      "     |  \n",
      "     |  __getslice__(...)\n",
      "     |      x.__getslice__(i, j) <==> x[i:j]\n",
      "     |      \n",
      "     |      Use of negative indices is not supported.\n",
      "     |  \n",
      "     |  __gt__(...)\n",
      "     |      x.__gt__(y) <==> x>y\n",
      "     |  \n",
      "     |  __hash__(...)\n",
      "     |      x.__hash__() <==> hash(x)\n",
      "     |  \n",
      "     |  __le__(...)\n",
      "     |      x.__le__(y) <==> x<=y\n",
      "     |  \n",
      "     |  __len__(...)\n",
      "     |      x.__len__() <==> len(x)\n",
      "     |  \n",
      "     |  __lt__(...)\n",
      "     |      x.__lt__(y) <==> x<y\n",
      "     |  \n",
      "     |  __mul__(...)\n",
      "     |      x.__mul__(n) <==> x*n\n",
      "     |  \n",
      "     |  __ne__(...)\n",
      "     |      x.__ne__(y) <==> x!=y\n",
      "     |  \n",
      "     |  __reduce__(...)\n",
      "     |  \n",
      "     |  __repr__(...)\n",
      "     |      x.__repr__() <==> repr(x)\n",
      "     |  \n",
      "     |  __rmul__(...)\n",
      "     |      x.__rmul__(n) <==> n*x\n",
      "     |  \n",
      "     |  ----------------------------------------------------------------------\n",
      "     |  Data descriptors defined here:\n",
      "     |  \n",
      "     |  tm_hour\n",
      "     |      hours, range [0, 23]\n",
      "     |  \n",
      "     |  tm_isdst\n",
      "     |      1 if summer time is in effect, 0 if not, and -1 if unknown\n",
      "     |  \n",
      "     |  tm_mday\n",
      "     |      day of month, range [1, 31]\n",
      "     |  \n",
      "     |  tm_min\n",
      "     |      minutes, range [0, 59]\n",
      "     |  \n",
      "     |  tm_mon\n",
      "     |      month of year, range [1, 12]\n",
      "     |  \n",
      "     |  tm_sec\n",
      "     |      seconds, range [0, 61])\n",
      "     |  \n",
      "     |  tm_wday\n",
      "     |      day of week, range [0, 6], Monday is 0\n",
      "     |  \n",
      "     |  tm_yday\n",
      "     |      day of year, range [1, 366]\n",
      "     |  \n",
      "     |  tm_year\n",
      "     |      year, for example, 1993\n",
      "     |  \n",
      "     |  ----------------------------------------------------------------------\n",
      "     |  Data and other attributes defined here:\n",
      "     |  \n",
      "     |  __new__ = <built-in method __new__ of type object>\n",
      "     |      T.__new__(S, ...) -> a new object with type S, a subtype of T\n",
      "     |  \n",
      "     |  n_fields = 9\n",
      "     |  \n",
      "     |  n_sequence_fields = 9\n",
      "     |  \n",
      "     |  n_unnamed_fields = 0\n",
      "\n",
      "FUNCTIONS\n",
      "    asctime(...)\n",
      "        asctime([tuple]) -> string\n",
      "        \n",
      "        Convert a time tuple to a string, e.g. 'Sat Jun 06 16:26:11 1998'.\n",
      "        When the time tuple is not present, current time as returned by localtime()\n",
      "        is used.\n",
      "    \n",
      "    clock(...)\n",
      "        clock() -> floating point number\n",
      "        \n",
      "        Return the CPU time or real time since the start of the process or since\n",
      "        the first call to clock().  This has as much precision as the system\n",
      "        records.\n",
      "    \n",
      "    ctime(...)\n",
      "        ctime(seconds) -> string\n",
      "        \n",
      "        Convert a time in seconds since the Epoch to a string in local time.\n",
      "        This is equivalent to asctime(localtime(seconds)). When the time tuple is\n",
      "        not present, current time as returned by localtime() is used.\n",
      "    \n",
      "    gmtime(...)\n",
      "        gmtime([seconds]) -> (tm_year, tm_mon, tm_mday, tm_hour, tm_min,\n",
      "                               tm_sec, tm_wday, tm_yday, tm_isdst)\n",
      "        \n",
      "        Convert seconds since the Epoch to a time tuple expressing UTC (a.k.a.\n",
      "        GMT).  When 'seconds' is not passed in, convert the current time instead.\n",
      "    \n",
      "    localtime(...)\n",
      "        localtime([seconds]) -> (tm_year,tm_mon,tm_mday,tm_hour,tm_min,\n",
      "                                  tm_sec,tm_wday,tm_yday,tm_isdst)\n",
      "        \n",
      "        Convert seconds since the Epoch to a time tuple expressing local time.\n",
      "        When 'seconds' is not passed in, convert the current time instead.\n",
      "    \n",
      "    mktime(...)\n",
      "        mktime(tuple) -> floating point number\n",
      "        \n",
      "        Convert a time tuple in local time to seconds since the Epoch.\n",
      "    \n",
      "    sleep(...)\n",
      "        sleep(seconds)\n",
      "        \n",
      "        Delay execution for a given number of seconds.  The argument may be\n",
      "        a floating point number for subsecond precision.\n",
      "    \n",
      "    strftime(...)\n",
      "        strftime(format[, tuple]) -> string\n",
      "        \n",
      "        Convert a time tuple to a string according to a format specification.\n",
      "        See the library reference manual for formatting codes. When the time tuple\n",
      "        is not present, current time as returned by localtime() is used.\n",
      "    \n",
      "    strptime(...)\n",
      "        strptime(string, format) -> struct_time\n",
      "        \n",
      "        Parse a string to a time tuple according to a format specification.\n",
      "        See the library reference manual for formatting codes (same as strftime()).\n",
      "    \n",
      "    time(...)\n",
      "        time() -> floating point number\n",
      "        \n",
      "        Return the current time in seconds since the Epoch.\n",
      "        Fractions of a second may be present if the system clock provides them.\n",
      "\n",
      "DATA\n",
      "    accept2dyear = 1\n",
      "    altzone = -23400\n",
      "    daylight = 0\n",
      "    timezone = -19800\n",
      "    tzname = ('India Standard Time', 'India Daylight Time')\n",
      "\n",
      "\n"
     ]
    }
   ],
   "source": [
    "import time\n",
    "help(time)"
   ]
  },
  {
   "cell_type": "code",
   "execution_count": 1,
   "metadata": {},
   "outputs": [
    {
     "name": "stdout",
     "output_type": "stream",
     "text": [
      "1591753028.95\n",
      "6e-07\n"
     ]
    }
   ],
   "source": [
    "import time\n",
    "print time.time()\n",
    "print time.clock()"
   ]
  },
  {
   "cell_type": "code",
   "execution_count": 3,
   "metadata": {},
   "outputs": [
    {
     "name": "stdout",
     "output_type": "stream",
     "text": [
      "anjan\n",
      "1591322569.91\n",
      "anjan\n",
      "1591322572.91\n",
      "anjan\n",
      "1591322575.91\n",
      "anjan\n",
      "1591322578.91\n",
      "anjan\n",
      "1591322581.91\n",
      "anjan\n",
      "1591322584.91\n",
      "anjan\n",
      "1591322587.91\n",
      "anjan\n",
      "1591322590.91\n",
      "anjan\n",
      "1591322593.92\n",
      "anjan\n",
      "1591322596.92\n"
     ]
    }
   ],
   "source": [
    "import time \n",
    "for  e in range(10):\n",
    "    print \"anjan\"\n",
    "    time.sleep(3)\n",
    "    print time.time()\n",
    "    "
   ]
  },
  {
   "cell_type": "code",
   "execution_count": 4,
   "metadata": {},
   "outputs": [
    {
     "name": "stdout",
     "output_type": "stream",
     "text": [
      "['__doc__', '__name__', '__package__', 'acos', 'acosh', 'asin', 'asinh', 'atan', 'atan2', 'atanh', 'ceil', 'copysign', 'cos', 'cosh', 'degrees', 'e', 'erf', 'erfc', 'exp', 'expm1', 'fabs', 'factorial', 'floor', 'fmod', 'frexp', 'fsum', 'gamma', 'hypot', 'isinf', 'isnan', 'ldexp', 'lgamma', 'log', 'log10', 'log1p', 'modf', 'pi', 'pow', 'radians', 'sin', 'sinh', 'sqrt', 'tan', 'tanh', 'trunc']\n"
     ]
    }
   ],
   "source": [
    "import math\n",
    "print dir(math)"
   ]
  },
  {
   "cell_type": "code",
   "execution_count": 5,
   "metadata": {},
   "outputs": [
    {
     "name": "stdout",
     "output_type": "stream",
     "text": [
      "Help on built-in function factorial in module math:\n",
      "\n",
      "factorial(...)\n",
      "    factorial(x) -> Integral\n",
      "    \n",
      "    Find x!. Raise a ValueError if x is negative or non-integral.\n",
      "\n"
     ]
    }
   ],
   "source": [
    "import math \n",
    "help(math.factorial)"
   ]
  },
  {
   "cell_type": "code",
   "execution_count": 6,
   "metadata": {},
   "outputs": [
    {
     "name": "stdout",
     "output_type": "stream",
     "text": [
      "Help on built-in function radians in module math:\n",
      "\n",
      "radians(...)\n",
      "    radians(x)\n",
      "    \n",
      "    Convert angle x from degrees to radians.\n",
      "\n"
     ]
    }
   ],
   "source": [
    "import math\n",
    "help(math.radians)"
   ]
  },
  {
   "cell_type": "code",
   "execution_count": 10,
   "metadata": {},
   "outputs": [
    {
     "name": "stdout",
     "output_type": "stream",
     "text": [
      "120\n",
      "3.14159265359\n",
      "3.14159265359\n"
     ]
    }
   ],
   "source": [
    "import math as m\n",
    "print m.factorial(5)\n",
    "print m.radians(180)\n",
    "print m.pi"
   ]
  },
  {
   "cell_type": "code",
   "execution_count": 12,
   "metadata": {},
   "outputs": [
    {
     "name": "stdout",
     "output_type": "stream",
     "text": [
      "120\n",
      "3.14159265359\n",
      "180.0\n",
      "3.14159265359\n"
     ]
    },
    {
     "ename": "NameError",
     "evalue": "name 'sin' is not defined",
     "output_type": "error",
     "traceback": [
      "\u001b[1;31m---------------------------------------------------------------------------\u001b[0m",
      "\u001b[1;31mNameError\u001b[0m                                 Traceback (most recent call last)",
      "\u001b[1;32m<ipython-input-12-16fc9076ade2>\u001b[0m in \u001b[0;36m<module>\u001b[1;34m()\u001b[0m\n\u001b[0;32m      4\u001b[0m \u001b[1;32mprint\u001b[0m \u001b[0mdegrees\u001b[0m\u001b[1;33m(\u001b[0m\u001b[0mpi\u001b[0m\u001b[1;33m)\u001b[0m\u001b[1;33m\u001b[0m\u001b[0m\n\u001b[0;32m      5\u001b[0m \u001b[1;32mprint\u001b[0m \u001b[0mpi\u001b[0m\u001b[1;33m\u001b[0m\u001b[0m\n\u001b[1;32m----> 6\u001b[1;33m \u001b[1;32mprint\u001b[0m \u001b[0msin\u001b[0m\u001b[1;33m(\u001b[0m\u001b[0mpi\u001b[0m\u001b[1;33m/\u001b[0m\u001b[1;36m2\u001b[0m\u001b[1;33m)\u001b[0m\u001b[1;33m\u001b[0m\u001b[0m\n\u001b[0m",
      "\u001b[1;31mNameError\u001b[0m: name 'sin' is not defined"
     ]
    }
   ],
   "source": [
    "from math import factorial, radians,degrees,pi\n",
    "print factorial(5)\n",
    "print radians(180)\n",
    "print degrees(pi)\n",
    "print pi\n",
    "print sin(pi/2)"
   ]
  },
  {
   "cell_type": "code",
   "execution_count": 13,
   "metadata": {},
   "outputs": [
    {
     "name": "stdout",
     "output_type": "stream",
     "text": [
      "120\n",
      "3.14159265359\n",
      "180.0\n",
      "3.14159265359\n",
      "1.0\n"
     ]
    }
   ],
   "source": [
    "from math import *\n",
    "print factorial(5)\n",
    "print radians(180)\n",
    "print degrees(pi)\n",
    "print pi\n",
    "print sin(pi/2)"
   ]
  },
  {
   "cell_type": "code",
   "execution_count": 14,
   "metadata": {},
   "outputs": [
    {
     "ename": "ImportError",
     "evalue": "No module named boto3",
     "output_type": "error",
     "traceback": [
      "\u001b[1;31m---------------------------------------------------------------------------\u001b[0m",
      "\u001b[1;31mImportError\u001b[0m                               Traceback (most recent call last)",
      "\u001b[1;32m<ipython-input-14-5c43c86c018e>\u001b[0m in \u001b[0;36m<module>\u001b[1;34m()\u001b[0m\n\u001b[1;32m----> 1\u001b[1;33m \u001b[1;32mimport\u001b[0m \u001b[0mboto3\u001b[0m\u001b[1;33m\u001b[0m\u001b[0m\n\u001b[0m",
      "\u001b[1;31mImportError\u001b[0m: No module named boto3"
     ]
    }
   ],
   "source": [
    "import boto3\n"
   ]
  },
  {
   "cell_type": "code",
   "execution_count": 5,
   "metadata": {},
   "outputs": [
    {
     "name": "stdout",
     "output_type": "stream",
     "text": [
      "Requirement already satisfied: boto3 in c:\\users\\socso\\anaconda2\\lib\\site-packages (1.9.66)\n",
      "Requirement already satisfied: botocore<1.13.0,>=1.12.66 in c:\\users\\socso\\anaconda2\\lib\\site-packages (from boto3) (1.12.189)\n",
      "Requirement already satisfied: jmespath<1.0.0,>=0.7.1 in c:\\users\\socso\\anaconda2\\lib\\site-packages (from boto3) (0.9.4)\n",
      "Requirement already satisfied: s3transfer<0.2.0,>=0.1.10 in c:\\users\\socso\\anaconda2\\lib\\site-packages (from boto3) (0.1.13)\n",
      "Requirement already satisfied: docutils>=0.10 in c:\\users\\socso\\anaconda2\\lib\\site-packages (from botocore<1.13.0,>=1.12.66->boto3) (0.15.2)\n",
      "Requirement already satisfied: python-dateutil<3.0.0,>=2.1 in c:\\users\\socso\\anaconda2\\lib\\site-packages (from botocore<1.13.0,>=1.12.66->boto3) (2.8.0)\n",
      "Requirement already satisfied: urllib3<1.26,>=1.20 in c:\\users\\socso\\anaconda2\\lib\\site-packages (from botocore<1.13.0,>=1.12.66->boto3) (1.24.2)\n",
      "Requirement already satisfied: futures<4.0.0,>=2.2.0 in c:\\users\\socso\\anaconda2\\lib\\site-packages (from s3transfer<0.2.0,>=0.1.10->boto3) (3.3.0)\n",
      "Requirement already satisfied: six>=1.5 in c:\\users\\socso\\anaconda2\\lib\\site-packages (from python-dateutil<3.0.0,>=2.1->botocore<1.13.0,>=1.12.66->boto3) (1.12.0)\n"
     ]
    },
    {
     "name": "stderr",
     "output_type": "stream",
     "text": [
      "DEPRECATION: Python 2.7 will reach the end of its life on January 1st, 2020. Please upgrade your Python as Python 2.7 won't be maintained after that date. A future version of pip will drop support for Python 2.7. More details about Python 2 support in pip, can be found at https://pip.pypa.io/en/latest/development/release-process/#python-2-support\n"
     ]
    },
    {
     "name": "stdout",
     "output_type": "stream",
     "text": [
      "['DEFAULT_SESSION', 'NullHandler', 'Session', '__author__', '__builtins__', '__doc__', '__file__', '__name__', '__package__', '__path__', '__version__', '_get_default_session', 'client', 'docs', 'exceptions', 'logging', 'resource', 'resources', 'session', 'set_stream_logger', 'setup_default_session', 'utils']\n"
     ]
    }
   ],
   "source": [
    "! pip install boto3\n",
    "import boto3\n",
    "print dir(boto3)"
   ]
  },
  {
   "cell_type": "code",
   "execution_count": 6,
   "metadata": {},
   "outputs": [
    {
     "name": "stdout",
     "output_type": "stream",
     "text": [
      "Requirement already satisfied: numpy in c:\\users\\socso\\anaconda2\\lib\\site-packages (1.16.5)\n"
     ]
    },
    {
     "name": "stderr",
     "output_type": "stream",
     "text": [
      "DEPRECATION: Python 2.7 will reach the end of its life on January 1st, 2020. Please upgrade your Python as Python 2.7 won't be maintained after that date. A future version of pip will drop support for Python 2.7. More details about Python 2 support in pip, can be found at https://pip.pypa.io/en/latest/development/release-process/#python-2-support\n"
     ]
    }
   ],
   "source": [
    "! pip install numpy"
   ]
  },
  {
   "cell_type": "code",
   "execution_count": 7,
   "metadata": {},
   "outputs": [],
   "source": [
    "import numpy   # 1st one\n",
    "import numpy as np # 2nd way\n",
    "from numpy import array # 3rd way\n",
    "from numpy import * # 4th wap"
   ]
  },
  {
   "cell_type": "code",
   "execution_count": 8,
   "metadata": {},
   "outputs": [
    {
     "name": "stdout",
     "output_type": "stream",
     "text": [
      "fun1\n",
      "fun2\n",
      "fun3\n"
     ]
    }
   ],
   "source": [
    "import user_module\n",
    "user_module.fun1()\n",
    "user_module.fun2()\n",
    "user_module.fun3()"
   ]
  },
  {
   "cell_type": "code",
   "execution_count": 9,
   "metadata": {},
   "outputs": [
    {
     "name": "stdout",
     "output_type": "stream",
     "text": [
      "fun1\n",
      "fun2\n",
      "fun3\n"
     ]
    }
   ],
   "source": [
    "import user_module as user\n",
    "user.fun1()\n",
    "user.fun2()\n",
    "user.fun3()"
   ]
  },
  {
   "cell_type": "code",
   "execution_count": 10,
   "metadata": {},
   "outputs": [
    {
     "name": "stdout",
     "output_type": "stream",
     "text": [
      "fun1\n",
      "fun3\n"
     ]
    },
    {
     "ename": "NameError",
     "evalue": "name 'fun2' is not defined",
     "output_type": "error",
     "traceback": [
      "\u001b[1;31m---------------------------------------------------------------------------\u001b[0m",
      "\u001b[1;31mNameError\u001b[0m                                 Traceback (most recent call last)",
      "\u001b[1;32m<ipython-input-10-bf0f3cb854f9>\u001b[0m in \u001b[0;36m<module>\u001b[1;34m()\u001b[0m\n\u001b[0;32m      2\u001b[0m \u001b[0mfun1\u001b[0m\u001b[1;33m(\u001b[0m\u001b[1;33m)\u001b[0m\u001b[1;33m\u001b[0m\u001b[0m\n\u001b[0;32m      3\u001b[0m \u001b[0mfun3\u001b[0m\u001b[1;33m(\u001b[0m\u001b[1;33m)\u001b[0m\u001b[1;33m\u001b[0m\u001b[0m\n\u001b[1;32m----> 4\u001b[1;33m \u001b[0mfun2\u001b[0m\u001b[1;33m(\u001b[0m\u001b[1;33m)\u001b[0m\u001b[1;33m\u001b[0m\u001b[0m\n\u001b[0m",
      "\u001b[1;31mNameError\u001b[0m: name 'fun2' is not defined"
     ]
    }
   ],
   "source": [
    "from user_module import fun1 , fun3\n",
    "fun1()\n",
    "fun3()\n",
    "fun2()"
   ]
  },
  {
   "cell_type": "code",
   "execution_count": 11,
   "metadata": {},
   "outputs": [
    {
     "name": "stdout",
     "output_type": "stream",
     "text": [
      "fun1\n",
      "fun3\n",
      "fun2\n"
     ]
    }
   ],
   "source": [
    "from user_module import *\n",
    "fun1()\n",
    "fun3()\n",
    "fun2()"
   ]
  },
  {
   "cell_type": "code",
   "execution_count": 12,
   "metadata": {},
   "outputs": [
    {
     "ename": "ImportError",
     "evalue": "No module named user_package",
     "output_type": "error",
     "traceback": [
      "\u001b[1;31m---------------------------------------------------------------------------\u001b[0m",
      "\u001b[1;31mImportError\u001b[0m                               Traceback (most recent call last)",
      "\u001b[1;32m<ipython-input-12-7f03fb7bed47>\u001b[0m in \u001b[0;36m<module>\u001b[1;34m()\u001b[0m\n\u001b[1;32m----> 1\u001b[1;33m \u001b[1;32mimport\u001b[0m \u001b[0muser_package\u001b[0m\u001b[1;33m\u001b[0m\u001b[0m\n\u001b[0m",
      "\u001b[1;31mImportError\u001b[0m: No module named user_package"
     ]
    }
   ],
   "source": [
    "import user_package"
   ]
  },
  {
   "cell_type": "code",
   "execution_count": 14,
   "metadata": {},
   "outputs": [
    {
     "name": "stdout",
     "output_type": "stream",
     "text": [
      "['__builtins__', '__doc__', '__file__', '__name__', '__package__', '__path__', 'fun1', 'fun2', 'fun3', 'fun4', 'fun5', 'fun6', 'module1', 'module2', 'module3']\n"
     ]
    }
   ],
   "source": [
    "import user_package\n",
    "print dir(user_package)"
   ]
  },
  {
   "cell_type": "code",
   "execution_count": 15,
   "metadata": {},
   "outputs": [
    {
     "name": "stdout",
     "output_type": "stream",
     "text": [
      "fun1\n",
      "fun2\n"
     ]
    }
   ],
   "source": [
    "import user_package\n",
    "user_package.fun1()\n",
    "user_package.fun2()"
   ]
  },
  {
   "cell_type": "code",
   "execution_count": null,
   "metadata": {},
   "outputs": [],
   "source": []
  }
 ],
 "metadata": {
  "kernelspec": {
   "display_name": "Python 2",
   "language": "python",
   "name": "python2"
  },
  "language_info": {
   "codemirror_mode": {
    "name": "ipython",
    "version": 2
   },
   "file_extension": ".py",
   "mimetype": "text/x-python",
   "name": "python",
   "nbconvert_exporter": "python",
   "pygments_lexer": "ipython2",
   "version": "2.7.16"
  }
 },
 "nbformat": 4,
 "nbformat_minor": 2
}
