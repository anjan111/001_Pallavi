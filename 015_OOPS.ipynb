{
 "cells": [
  {
   "cell_type": "code",
   "execution_count": 1,
   "metadata": {},
   "outputs": [
    {
     "name": "stdout",
     "output_type": "stream",
     "text": [
      "<type 'instance'>\n",
      "81441160\n",
      "<__main__.Class_Name instance at 0x0000000004DAB188>\n"
     ]
    }
   ],
   "source": [
    "# CREATE SAMPLE CLASS AND OBJECT\n",
    "\n",
    "class   Class_Name():\n",
    "    '''\n",
    "    Class\n",
    "    Attributes\n",
    "    '''\n",
    "object_name  = Class_Name()\n",
    "print type(object_name)\n",
    "print id(object_name)\n",
    "print object_name\n"
   ]
  },
  {
   "cell_type": "code",
   "execution_count": 2,
   "metadata": {},
   "outputs": [
    {
     "data": {
      "text/plain": [
       "81441160"
      ]
     },
     "execution_count": 2,
     "metadata": {},
     "output_type": "execute_result"
    }
   ],
   "source": [
    "int(0x4DAB188)"
   ]
  },
  {
   "cell_type": "code",
   "execution_count": 3,
   "metadata": {},
   "outputs": [
    {
     "name": "stdout",
     "output_type": "stream",
     "text": [
      "***********\n",
      "<type 'instance'>\n",
      "81535240\n",
      "<__main__.Class_Name instance at 0x0000000004DC2108>\n",
      "***********\n",
      "<type 'instance'>\n",
      "81444744\n",
      "<__main__.Class_Name instance at 0x0000000004DABF88>\n",
      "***********\n",
      "<type 'instance'>\n",
      "81535176\n",
      "<__main__.Class_Name instance at 0x0000000004DC20C8>\n"
     ]
    }
   ],
   "source": [
    "# CREATE SAMPLE CLASS AND OBJECT\n",
    "\n",
    "class   Class_Name():\n",
    "    '''\n",
    "    Class\n",
    "    Attributes\n",
    "    '''\n",
    "print \"***********\"\n",
    "object_name1  = Class_Name()\n",
    "print type(object_name1)\n",
    "print id(object_name1)\n",
    "print object_name1\n",
    "print \"***********\"\n",
    "object_name2  = Class_Name()\n",
    "print type(object_name2)\n",
    "print id(object_name2)\n",
    "print object_name2\n",
    "print \"***********\"\n",
    "object_name3  = Class_Name()\n",
    "print type(object_name3)\n",
    "print id(object_name3)\n",
    "print object_name3"
   ]
  },
  {
   "cell_type": "code",
   "execution_count": 1,
   "metadata": {},
   "outputs": [
    {
     "name": "stdout",
     "output_type": "stream",
     "text": [
      "890\n",
      "890\n",
      "890\n",
      "56\n",
      "78\n",
      "75\n"
     ]
    }
   ],
   "source": [
    "class Class_name():\n",
    "    var = 890\n",
    "obj1 = Class_name()\n",
    "obj2 = Class_name()\n",
    "obj3 = Class_name()\n",
    "print obj1.var\n",
    "print obj2.var\n",
    "print obj3.var\n",
    "obj1.var = 56\n",
    "obj2.var = 78\n",
    "obj3.var = 75\n",
    "print obj1.var\n",
    "print obj2.var\n",
    "print obj3.var"
   ]
  },
  {
   "cell_type": "code",
   "execution_count": 3,
   "metadata": {},
   "outputs": [
    {
     "name": "stdout",
     "output_type": "stream",
     "text": [
      "<__main__.Class_name instance at 0x00000000048D5988>\n",
      "hello\n",
      "<__main__.Class_name instance at 0x00000000048D5988>\n"
     ]
    }
   ],
   "source": [
    "# method \n",
    "class Class_name():\n",
    "    \n",
    "    def method_name(arg1):\n",
    "        print \"hello\"\n",
    "        print arg1\n",
    "    \n",
    "    \n",
    "    \n",
    "obj1 = Class_name()\n",
    "print obj1\n",
    "obj1.method_name()"
   ]
  },
  {
   "cell_type": "code",
   "execution_count": null,
   "metadata": {},
   "outputs": [],
   "source": [
    "# method \n",
    "class Class_name():\n",
    "    \n",
    "    def method_name(arg1):\n",
    "        print \"hello\"\n",
    "        print arg1\n",
    "        \n",
    "obj1 = Class_name()\n",
    "print obj1\n",
    "obj1.method_name()"
   ]
  },
  {
   "cell_type": "code",
   "execution_count": 4,
   "metadata": {},
   "outputs": [
    {
     "name": "stdout",
     "output_type": "stream",
     "text": [
      "<__main__.Class_name instance at 0x00000000048D5B08>\n",
      "hello 123\n",
      "<__main__.Class_name instance at 0x00000000048D5B08>\n"
     ]
    }
   ],
   "source": [
    "# method \n",
    "class Class_name():\n",
    "    \n",
    "    def method_name(arg1,var):\n",
    "        print \"hello\", var\n",
    "        print arg1\n",
    "        \n",
    "obj1 = Class_name()\n",
    "print obj1\n",
    "obj1.method_name(123)"
   ]
  },
  {
   "cell_type": "code",
   "execution_count": 7,
   "metadata": {},
   "outputs": [
    {
     "name": "stdout",
     "output_type": "stream",
     "text": [
      "<__main__.Class_name instance at 0x000000000494CAC8>\n",
      "hello\n",
      "<__main__.Class_name instance at 0x000000000494CAC8>\n",
      "hello\n",
      "<__main__.Class_name instance at 0x000000000494CAC8>\n",
      "hello\n",
      "<__main__.Class_name instance at 0x000000000494CAC8>\n"
     ]
    }
   ],
   "source": [
    "# method \n",
    "class Class_name():\n",
    "    \n",
    "    def method_name1(self):\n",
    "        print \"hello\"\n",
    "        print self\n",
    "        #a =  123 # local to method1\n",
    "    def method_name2(self):\n",
    "        print \"hello\"\n",
    "        print self  \n",
    "        #print a\n",
    "    def method_name3(self):\n",
    "        print \"hello\"\n",
    "        print self\n",
    "        #print a\n",
    "obj1 = Class_name()\n",
    "print obj1\n",
    "obj1.method_name1()\n",
    "obj1.method_name2()\n",
    "obj1.method_name3()"
   ]
  },
  {
   "cell_type": "code",
   "execution_count": 8,
   "metadata": {},
   "outputs": [
    {
     "name": "stdout",
     "output_type": "stream",
     "text": [
      "<__main__.Class_name instance at 0x000000000494CD48>\n",
      "hello\n",
      "<__main__.Class_name instance at 0x000000000494CD48>\n",
      "hello\n",
      "<__main__.Class_name instance at 0x000000000494CD48>\n"
     ]
    },
    {
     "ename": "NameError",
     "evalue": "global name 'a' is not defined",
     "output_type": "error",
     "traceback": [
      "\u001b[1;31m---------------------------------------------------------------------------\u001b[0m",
      "\u001b[1;31mNameError\u001b[0m                                 Traceback (most recent call last)",
      "\u001b[1;32m<ipython-input-8-cdf58b9955d8>\u001b[0m in \u001b[0;36m<module>\u001b[1;34m()\u001b[0m\n\u001b[0;32m     17\u001b[0m \u001b[1;32mprint\u001b[0m \u001b[0mobj1\u001b[0m\u001b[1;33m\u001b[0m\u001b[0m\n\u001b[0;32m     18\u001b[0m \u001b[0mobj1\u001b[0m\u001b[1;33m.\u001b[0m\u001b[0mmethod_name1\u001b[0m\u001b[1;33m(\u001b[0m\u001b[1;33m)\u001b[0m\u001b[1;33m\u001b[0m\u001b[0m\n\u001b[1;32m---> 19\u001b[1;33m \u001b[0mobj1\u001b[0m\u001b[1;33m.\u001b[0m\u001b[0mmethod_name2\u001b[0m\u001b[1;33m(\u001b[0m\u001b[1;33m)\u001b[0m\u001b[1;33m\u001b[0m\u001b[0m\n\u001b[0m\u001b[0;32m     20\u001b[0m \u001b[0mobj1\u001b[0m\u001b[1;33m.\u001b[0m\u001b[0mmethod_name3\u001b[0m\u001b[1;33m(\u001b[0m\u001b[1;33m)\u001b[0m\u001b[1;33m\u001b[0m\u001b[0m\n",
      "\u001b[1;32m<ipython-input-8-cdf58b9955d8>\u001b[0m in \u001b[0;36mmethod_name2\u001b[1;34m(self)\u001b[0m\n\u001b[0;32m      9\u001b[0m         \u001b[1;32mprint\u001b[0m \u001b[1;34m\"hello\"\u001b[0m\u001b[1;33m\u001b[0m\u001b[0m\n\u001b[0;32m     10\u001b[0m         \u001b[1;32mprint\u001b[0m \u001b[0mself\u001b[0m\u001b[1;33m\u001b[0m\u001b[0m\n\u001b[1;32m---> 11\u001b[1;33m         \u001b[1;32mprint\u001b[0m \u001b[0ma\u001b[0m\u001b[1;33m\u001b[0m\u001b[0m\n\u001b[0m\u001b[0;32m     12\u001b[0m     \u001b[1;32mdef\u001b[0m \u001b[0mmethod_name3\u001b[0m\u001b[1;33m(\u001b[0m\u001b[0mself\u001b[0m\u001b[1;33m)\u001b[0m\u001b[1;33m:\u001b[0m\u001b[1;33m\u001b[0m\u001b[0m\n\u001b[0;32m     13\u001b[0m         \u001b[1;32mprint\u001b[0m \u001b[1;34m\"hello\"\u001b[0m\u001b[1;33m\u001b[0m\u001b[0m\n",
      "\u001b[1;31mNameError\u001b[0m: global name 'a' is not defined"
     ]
    }
   ],
   "source": [
    "# method \n",
    "class Class_name():\n",
    "    \n",
    "    def method_name1(self):\n",
    "        print \"hello\"\n",
    "        print self\n",
    "        a =  123 # local to method1\n",
    "    def method_name2(self):\n",
    "        print \"hello\"\n",
    "        print self  \n",
    "        print a\n",
    "    def method_name3(self):\n",
    "        print \"hello\"\n",
    "        print self\n",
    "        print a\n",
    "obj1 = Class_name()\n",
    "print obj1\n",
    "obj1.method_name1()\n",
    "obj1.method_name2()\n",
    "obj1.method_name3()"
   ]
  },
  {
   "cell_type": "code",
   "execution_count": 9,
   "metadata": {},
   "outputs": [
    {
     "name": "stdout",
     "output_type": "stream",
     "text": [
      "<__main__.Class_name instance at 0x000000000494CF08>\n",
      "hello\n",
      "<__main__.Class_name instance at 0x000000000494CF08>\n",
      "hello\n",
      "<__main__.Class_name instance at 0x000000000494CF08>\n",
      "123\n",
      "hello\n",
      "<__main__.Class_name instance at 0x000000000494CF08>\n",
      "123\n"
     ]
    }
   ],
   "source": [
    "# method \n",
    "class Class_name():\n",
    "    \n",
    "    def method_name1(self):\n",
    "        print \"hello\"\n",
    "        print self\n",
    "        self.a =  123 # global to object1\n",
    "    def method_name2(self):\n",
    "        print \"hello\"\n",
    "        print self  \n",
    "        print self.a\n",
    "    def method_name3(self):\n",
    "        print \"hello\"\n",
    "        print self\n",
    "        print self.a\n",
    "obj1 = Class_name()\n",
    "print obj1\n",
    "obj1.method_name1()\n",
    "obj1.method_name2()\n",
    "obj1.method_name3()"
   ]
  },
  {
   "cell_type": "code",
   "execution_count": 14,
   "metadata": {},
   "outputs": [
    {
     "name": "stdout",
     "output_type": "stream",
     "text": [
      "<__main__.Class_name instance at 0x000000000494E948>\n",
      "hello\n",
      "<__main__.Class_name instance at 0x000000000494E948>\n",
      "hello\n",
      "<__main__.Class_name instance at 0x000000000494E948>\n",
      "123\n",
      "hello\n",
      "<__main__.Class_name instance at 0x000000000494E948>\n",
      "123\n"
     ]
    }
   ],
   "source": [
    "# method\n",
    "var = 123 # global for whole program\n",
    "class Class_name():\n",
    "    \n",
    "    def method_name1(self):\n",
    "        global  var\n",
    "        print \"hello\"\n",
    "        print self\n",
    "        self.a =  123 # global to object1\n",
    "    def method_name2(self):\n",
    "        print \"hello\"\n",
    "        print self\n",
    "        print self.a\n",
    "\n",
    "    def method_name3(self):\n",
    "        print \"hello\"\n",
    "        print self\n",
    "        print self.a\n",
    "obj1 = Class_name()\n",
    "print obj1\n",
    "obj1.method_name1()\n",
    "obj1.method_name2()\n",
    "obj1.method_name3()"
   ]
  },
  {
   "cell_type": "code",
   "execution_count": null,
   "metadata": {},
   "outputs": [],
   "source": []
  }
 ],
 "metadata": {
  "kernelspec": {
   "display_name": "Python 2",
   "language": "python",
   "name": "python2"
  },
  "language_info": {
   "codemirror_mode": {
    "name": "ipython",
    "version": 2
   },
   "file_extension": ".py",
   "mimetype": "text/x-python",
   "name": "python",
   "nbconvert_exporter": "python",
   "pygments_lexer": "ipython2",
   "version": "2.7.16"
  }
 },
 "nbformat": 4,
 "nbformat_minor": 2
}
