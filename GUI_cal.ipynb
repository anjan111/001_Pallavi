{
 "cells": [
  {
   "cell_type": "code",
   "execution_count": 4,
   "metadata": {},
   "outputs": [],
   "source": [
    "def task1():\n",
    "    a = float(Ent1.get())\n",
    "    b = float(Ent2.get())\n",
    "    Text = str(a) ,\"  +  \"  , str(b)  ,  \"  =  \", str(a+b)\n",
    "    Lb3.configure(text = Text )\n",
    "    \n",
    "def task2():\n",
    "    a = float(Ent1.get())\n",
    "    b = float(Ent2.get())\n",
    "    Text = str(a) ,\"  -  \"  , str(b)  ,  \"  =  \", str(a-b)\n",
    "    Lb3.configure(text = Text )\n",
    "def task3():\n",
    "    a = float(Ent1.get())\n",
    "    b = float(Ent2.get())\n",
    "    Text = str(a) ,\"  *  \"  , str(b)  ,  \"  =  \", str(a*b)\n",
    "    Lb3.configure(text = Text )  \n",
    "def task4():\n",
    "    a = float(Ent1.get())\n",
    "    b = float(Ent2.get())\n",
    "    Text = str(a) ,\"  **  \"  , str(b)  ,  \"  =  \", str(a**b)\n",
    "    Lb3.configure(text = Text )\n",
    "from tkinter import *\n",
    "window = Tk() # This is Tk class , which is used for to create window object\n",
    "window.title(\"Welcome to GUI CALCULATOR APP\")\n",
    "\n",
    "Lb1    = Label(window,text = \"A  :  \",font =(\"Arial Bold\",25))\n",
    "Lb1.grid(column = 0 , row = 0)\n",
    "\n",
    "Ent1 = Entry(window,width = 20)\n",
    "Ent1.grid(column = 1 , row = 0)\n",
    "\n",
    "Lb2    = Label(window,text = \"B  :  \",font =(\"Arial Bold\",25))\n",
    "Lb2.grid(column = 2 , row = 0)\n",
    "\n",
    "Ent2 = Entry(window,width = 20)\n",
    "Ent2.grid(column = 3 , row = 0)\n",
    "\n",
    "\n",
    "Btn1  = Button(window,text = \"+\",bg = \"orange\",fg=\"red\",command =task1)\n",
    "Btn1.grid(column = 0 , row = 1)\n",
    "\n",
    "Btn2  = Button(window,text = \"-\",bg = \"orange\",fg=\"red\",command =task2)\n",
    "Btn2.grid(column = 1 , row = 1)\n",
    "\n",
    "Btn3  = Button(window,text = \"*\",bg = \"orange\",fg=\"red\",command =task3)\n",
    "Btn3.grid(column = 2 , row = 1)\n",
    "\n",
    "Btn4  = Button(window,text = \"**\",bg = \"orange\",fg=\"red\",command =task4)\n",
    "Btn4.grid(column = 3 , row = 1)\n",
    "\n",
    "\n",
    "Lb3    = Label(window,text = \"Result  : \",font =(\"Arial Bold\",50))\n",
    "Lb3.grid(column = 0 , row = 3)\n",
    "\n",
    "window.mainloop()"
   ]
  },
  {
   "cell_type": "code",
   "execution_count": null,
   "metadata": {},
   "outputs": [],
   "source": []
  }
 ],
 "metadata": {
  "kernelspec": {
   "display_name": "Python 2",
   "language": "python",
   "name": "python2"
  },
  "language_info": {
   "codemirror_mode": {
    "name": "ipython",
    "version": 2
   },
   "file_extension": ".py",
   "mimetype": "text/x-python",
   "name": "python",
   "nbconvert_exporter": "python",
   "pygments_lexer": "ipython2",
   "version": "2.7.16"
  }
 },
 "nbformat": 4,
 "nbformat_minor": 2
}
