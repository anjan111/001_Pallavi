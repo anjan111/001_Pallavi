{
 "cells": [
  {
   "cell_type": "code",
   "execution_count": 1,
   "metadata": {},
   "outputs": [
    {
     "name": "stdout",
     "output_type": "stream",
     "text": [
      "enter data : \"1234567890\"\n"
     ]
    }
   ],
   "source": [
    "# write --->w\n",
    "fo = open(\"sample.txt\",\"w\") # sample.txt is not existed then it created and opened\n",
    "data = input(\"enter data : \")\n",
    "fo.write(data)\n",
    "fo.close()"
   ]
  },
  {
   "cell_type": "code",
   "execution_count": 2,
   "metadata": {},
   "outputs": [
    {
     "name": "stdout",
     "output_type": "stream",
     "text": [
      "enter data : \"anjan Kumar\"\n"
     ]
    }
   ],
   "source": [
    "# write --->w+\n",
    "fo = open(\"sample1.txt\",\"w+\") # sample1.txt is not existed then it created and opened\n",
    "data = input(\"enter data : \")\n",
    "fo.write(data)\n",
    "fo.close()"
   ]
  },
  {
   "cell_type": "code",
   "execution_count": 3,
   "metadata": {},
   "outputs": [
    {
     "name": "stdout",
     "output_type": "stream",
     "text": [
      "enter data : \"new data in sample.txt\"\n",
      "enter data : \"new data in sample1.txt\"\n"
     ]
    }
   ],
   "source": [
    "# write --->w\n",
    "fo = open(\"sample.txt\",\"w\") # sample.txt is  existed with some then data can lost and open\n",
    "data = input(\"enter data : \")\n",
    "fo.write(data)\n",
    "fo.close()\n",
    "# write --->w+\n",
    "fo = open(\"sample1.txt\",\"w+\") # sample1.txt  existed with some then data can lost and open\n",
    "data = input(\"enter data : \")\n",
    "fo.write(data)\n",
    "fo.close()"
   ]
  },
  {
   "cell_type": "code",
   "execution_count": 5,
   "metadata": {},
   "outputs": [
    {
     "name": "stdout",
     "output_type": "stream",
     "text": [
      "file loc :  0\n",
      "enter data : \"Anjan Kumar\"\n",
      "file loc :  11\n",
      "file loc :  0\n",
      "reading :  Anjan Kumar\n",
      "file loc :  11\n"
     ]
    }
   ],
   "source": [
    "# w ---> only we have to write()\n",
    "# w+ --> we can use both read() & write()\n",
    "fo = open(\"sample1.txt\",\"w+\") # sample1.txt  existed with some then data can lost and open\n",
    "print \"file loc : \",fo.tell()\n",
    "data = input(\"enter data : \")\n",
    "fo.write(data)\n",
    "print \"file loc : \",fo.tell()\n",
    "fo.seek(0,0) # 0 --> BOF , 2 --> EOF , 1---> CLF\n",
    "print \"file loc : \",fo.tell()\n",
    "print \"reading : \",fo.read()\n",
    "print \"file loc : \",fo.tell()\n",
    "fo.close()\n"
   ]
  },
  {
   "cell_type": "code",
   "execution_count": 6,
   "metadata": {},
   "outputs": [
    {
     "name": "stdout",
     "output_type": "stream",
     "text": [
      "file loc :  0\n",
      "enter data : \"hjfgjhfhgbgj\"\n",
      "file loc :  12\n",
      "file loc :  0\n",
      "reading : "
     ]
    },
    {
     "ename": "IOError",
     "evalue": "File not open for reading",
     "output_type": "error",
     "traceback": [
      "\u001b[1;31m---------------------------------------------------------------------------\u001b[0m",
      "\u001b[1;31mIOError\u001b[0m                                   Traceback (most recent call last)",
      "\u001b[1;32m<ipython-input-6-916a9678ecf5>\u001b[0m in \u001b[0;36m<module>\u001b[1;34m()\u001b[0m\n\u001b[0;32m      8\u001b[0m \u001b[0mfo\u001b[0m\u001b[1;33m.\u001b[0m\u001b[0mseek\u001b[0m\u001b[1;33m(\u001b[0m\u001b[1;36m0\u001b[0m\u001b[1;33m,\u001b[0m\u001b[1;36m0\u001b[0m\u001b[1;33m)\u001b[0m \u001b[1;31m# 0 --> BOF , 2 --> EOF , 1---> CLF\u001b[0m\u001b[1;33m\u001b[0m\u001b[0m\n\u001b[0;32m      9\u001b[0m \u001b[1;32mprint\u001b[0m \u001b[1;34m\"file loc : \"\u001b[0m\u001b[1;33m,\u001b[0m\u001b[0mfo\u001b[0m\u001b[1;33m.\u001b[0m\u001b[0mtell\u001b[0m\u001b[1;33m(\u001b[0m\u001b[1;33m)\u001b[0m\u001b[1;33m\u001b[0m\u001b[0m\n\u001b[1;32m---> 10\u001b[1;33m \u001b[1;32mprint\u001b[0m \u001b[1;34m\"reading : \"\u001b[0m\u001b[1;33m,\u001b[0m\u001b[0mfo\u001b[0m\u001b[1;33m.\u001b[0m\u001b[0mread\u001b[0m\u001b[1;33m(\u001b[0m\u001b[1;33m)\u001b[0m\u001b[1;33m\u001b[0m\u001b[0m\n\u001b[0m\u001b[0;32m     11\u001b[0m \u001b[1;32mprint\u001b[0m \u001b[1;34m\"file loc : \"\u001b[0m\u001b[1;33m,\u001b[0m\u001b[0mfo\u001b[0m\u001b[1;33m.\u001b[0m\u001b[0mtell\u001b[0m\u001b[1;33m(\u001b[0m\u001b[1;33m)\u001b[0m\u001b[1;33m\u001b[0m\u001b[0m\n\u001b[0;32m     12\u001b[0m \u001b[0mfo\u001b[0m\u001b[1;33m.\u001b[0m\u001b[0mclose\u001b[0m\u001b[1;33m(\u001b[0m\u001b[1;33m)\u001b[0m\u001b[1;33m\u001b[0m\u001b[0m\n",
      "\u001b[1;31mIOError\u001b[0m: File not open for reading"
     ]
    }
   ],
   "source": [
    "# w ---> only we have to write()\n",
    "# w+ --> we can use both read() & write()\n",
    "fo = open(\"sample.txt\",\"w\") # sample1.txt  existed with some then data can lost and open\n",
    "print \"file loc : \",fo.tell()\n",
    "data = input(\"enter data : \")\n",
    "fo.write(data)\n",
    "print \"file loc : \",fo.tell()\n",
    "fo.seek(0,0) # 0 --> BOF , 2 --> EOF , 1---> CLF\n",
    "print \"file loc : \",fo.tell()\n",
    "print \"reading : \",fo.read()\n",
    "print \"file loc : \",fo.tell()\n",
    "fo.close()\n"
   ]
  },
  {
   "cell_type": "code",
   "execution_count": 7,
   "metadata": {},
   "outputs": [
    {
     "name": "stdout",
     "output_type": "stream",
     "text": [
      "enter data : \"1234567890\"\n",
      "enter data : \"anjan kumar\"\n",
      "\n"
     ]
    }
   ],
   "source": [
    "# append --->a\n",
    "fo = open(\"sample2.txt\",\"a\") # sample.txt is not existed then it created and opened\n",
    "data = input(\"enter data : \")\n",
    "fo.write(data)\n",
    "fo.close()\n",
    "# append --->a+\n",
    "fo = open(\"sample3.txt\",\"a+\") # sample.txt is not existed then it created and opened\n",
    "data = input(\"enter data : \")\n",
    "fo.write(data)\n",
    "fo.close()"
   ]
  },
  {
   "cell_type": "code",
   "execution_count": 8,
   "metadata": {},
   "outputs": [
    {
     "name": "stdout",
     "output_type": "stream",
     "text": [
      "enter data : \"new data \"\n",
      "enter data : \"123 new data\"\n"
     ]
    }
   ],
   "source": [
    "# append --->a\n",
    "fo = open(\"sample2.txt\",\"a\") # sample2.txt is existed then data is safe and just write at eof\n",
    "data = input(\"enter data : \")\n",
    "fo.write(data)\n",
    "fo.close()\n",
    "# append --->a+\n",
    "fo = open(\"sample3.txt\",\"a+\") #sample3.txt is existed then data is safe and just write at eof\n",
    "data = input(\"enter data : \")\n",
    "fo.write(data)\n",
    "fo.close()"
   ]
  },
  {
   "cell_type": "code",
   "execution_count": 9,
   "metadata": {},
   "outputs": [
    {
     "name": "stdout",
     "output_type": "stream",
     "text": [
      "file loc :  0\n",
      "enter data : \"1234\"\n",
      "file loc :  27\n",
      "file loc :  0\n",
      "reading :  anjan kumar123 new data1234\n",
      "file loc :  27\n"
     ]
    }
   ],
   "source": [
    "# a ---> only we have to write()\n",
    "# a+ --> we can use both read() & write()\n",
    "fo = open(\"sample3.txt\",\"a+\") # sample1.txt  existed with some then data can lost and open\n",
    "print \"file loc : \",fo.tell()\n",
    "data = input(\"enter data : \")\n",
    "fo.write(data)\n",
    "print \"file loc : \",fo.tell()\n",
    "fo.seek(0,0) # 0 --> BOF , 2 --> EOF , 1---> CLF\n",
    "print \"file loc : \",fo.tell()\n",
    "print \"reading : \",fo.read()\n",
    "print \"file loc : \",fo.tell()\n",
    "fo.close()\n"
   ]
  },
  {
   "cell_type": "code",
   "execution_count": 10,
   "metadata": {},
   "outputs": [
    {
     "name": "stdout",
     "output_type": "stream",
     "text": [
      "file loc :  0\n",
      "enter data : \"ekjrkfjkg\"\n",
      "file loc :  28\n",
      "file loc :  0\n",
      "reading : "
     ]
    },
    {
     "ename": "IOError",
     "evalue": "File not open for reading",
     "output_type": "error",
     "traceback": [
      "\u001b[1;31m---------------------------------------------------------------------------\u001b[0m",
      "\u001b[1;31mIOError\u001b[0m                                   Traceback (most recent call last)",
      "\u001b[1;32m<ipython-input-10-64b2667c03a2>\u001b[0m in \u001b[0;36m<module>\u001b[1;34m()\u001b[0m\n\u001b[0;32m      8\u001b[0m \u001b[0mfo\u001b[0m\u001b[1;33m.\u001b[0m\u001b[0mseek\u001b[0m\u001b[1;33m(\u001b[0m\u001b[1;36m0\u001b[0m\u001b[1;33m,\u001b[0m\u001b[1;36m0\u001b[0m\u001b[1;33m)\u001b[0m \u001b[1;31m# 0 --> BOF , 2 --> EOF , 1---> CLF\u001b[0m\u001b[1;33m\u001b[0m\u001b[0m\n\u001b[0;32m      9\u001b[0m \u001b[1;32mprint\u001b[0m \u001b[1;34m\"file loc : \"\u001b[0m\u001b[1;33m,\u001b[0m\u001b[0mfo\u001b[0m\u001b[1;33m.\u001b[0m\u001b[0mtell\u001b[0m\u001b[1;33m(\u001b[0m\u001b[1;33m)\u001b[0m\u001b[1;33m\u001b[0m\u001b[0m\n\u001b[1;32m---> 10\u001b[1;33m \u001b[1;32mprint\u001b[0m \u001b[1;34m\"reading : \"\u001b[0m\u001b[1;33m,\u001b[0m\u001b[0mfo\u001b[0m\u001b[1;33m.\u001b[0m\u001b[0mread\u001b[0m\u001b[1;33m(\u001b[0m\u001b[1;33m)\u001b[0m\u001b[1;33m\u001b[0m\u001b[0m\n\u001b[0m\u001b[0;32m     11\u001b[0m \u001b[1;32mprint\u001b[0m \u001b[1;34m\"file loc : \"\u001b[0m\u001b[1;33m,\u001b[0m\u001b[0mfo\u001b[0m\u001b[1;33m.\u001b[0m\u001b[0mtell\u001b[0m\u001b[1;33m(\u001b[0m\u001b[1;33m)\u001b[0m\u001b[1;33m\u001b[0m\u001b[0m\n\u001b[0;32m     12\u001b[0m \u001b[0mfo\u001b[0m\u001b[1;33m.\u001b[0m\u001b[0mclose\u001b[0m\u001b[1;33m(\u001b[0m\u001b[1;33m)\u001b[0m\u001b[1;33m\u001b[0m\u001b[0m\n",
      "\u001b[1;31mIOError\u001b[0m: File not open for reading"
     ]
    }
   ],
   "source": [
    "# a ---> only we have to write()\n",
    "# a+ --> we can use both read() & write()\n",
    "fo = open(\"sample2.txt\",\"a\") # sample1.txt  existed with some then data can lost and open\n",
    "print \"file loc : \",fo.tell()\n",
    "data = input(\"enter data : \")\n",
    "fo.write(data)\n",
    "print \"file loc : \",fo.tell()\n",
    "fo.seek(0,0) # 0 --> BOF , 2 --> EOF , 1---> CLF\n",
    "print \"file loc : \",fo.tell()\n",
    "print \"reading : \",fo.read()\n",
    "print \"file loc : \",fo.tell()\n",
    "fo.close()\n"
   ]
  },
  {
   "cell_type": "code",
   "execution_count": 1,
   "metadata": {},
   "outputs": [
    {
     "ename": "IOError",
     "evalue": "[Errno 2] No such file or directory: 'sample10.txt'",
     "output_type": "error",
     "traceback": [
      "\u001b[1;31m---------------------------------------------------------------------------\u001b[0m",
      "\u001b[1;31mIOError\u001b[0m                                   Traceback (most recent call last)",
      "\u001b[1;32m<ipython-input-1-a87edd1b7bc5>\u001b[0m in \u001b[0;36m<module>\u001b[1;34m()\u001b[0m\n\u001b[0;32m      1\u001b[0m \u001b[1;31m# read mode  r\u001b[0m\u001b[1;33m\u001b[0m\u001b[1;33m\u001b[0m\u001b[0m\n\u001b[0;32m      2\u001b[0m \u001b[1;33m\u001b[0m\u001b[0m\n\u001b[1;32m----> 3\u001b[1;33m \u001b[0mfo\u001b[0m \u001b[1;33m=\u001b[0m \u001b[0mopen\u001b[0m\u001b[1;33m(\u001b[0m\u001b[1;34m\"sample10.txt\"\u001b[0m\u001b[1;33m,\u001b[0m\u001b[1;34m'r'\u001b[0m\u001b[1;33m)\u001b[0m \u001b[1;31m# file is not existed then its error\u001b[0m\u001b[1;33m\u001b[0m\u001b[0m\n\u001b[0m\u001b[0;32m      4\u001b[0m \u001b[0mfo\u001b[0m\u001b[1;33m.\u001b[0m\u001b[0mclose\u001b[0m\u001b[1;33m(\u001b[0m\u001b[1;33m)\u001b[0m\u001b[1;33m\u001b[0m\u001b[0m\n\u001b[0;32m      5\u001b[0m \u001b[1;33m\u001b[0m\u001b[0m\n",
      "\u001b[1;31mIOError\u001b[0m: [Errno 2] No such file or directory: 'sample10.txt'"
     ]
    }
   ],
   "source": [
    "# read mode  r \n",
    "\n",
    "fo = open(\"sample10.txt\",'r') # file is not existed then its error\n",
    "fo.close()\n",
    "\n"
   ]
  },
  {
   "cell_type": "code",
   "execution_count": 2,
   "metadata": {},
   "outputs": [
    {
     "ename": "IOError",
     "evalue": "[Errno 2] No such file or directory: 'sample10.txt'",
     "output_type": "error",
     "traceback": [
      "\u001b[1;31m---------------------------------------------------------------------------\u001b[0m",
      "\u001b[1;31mIOError\u001b[0m                                   Traceback (most recent call last)",
      "\u001b[1;32m<ipython-input-2-9d97fbcb0307>\u001b[0m in \u001b[0;36m<module>\u001b[1;34m()\u001b[0m\n\u001b[0;32m      1\u001b[0m \u001b[1;33m\u001b[0m\u001b[0m\n\u001b[0;32m      2\u001b[0m \u001b[1;31m# read mode r+\u001b[0m\u001b[1;33m\u001b[0m\u001b[1;33m\u001b[0m\u001b[0m\n\u001b[1;32m----> 3\u001b[1;33m \u001b[0mfo\u001b[0m \u001b[1;33m=\u001b[0m \u001b[0mopen\u001b[0m\u001b[1;33m(\u001b[0m\u001b[1;34m\"sample10.txt\"\u001b[0m\u001b[1;33m,\u001b[0m\u001b[1;34m'r+'\u001b[0m\u001b[1;33m)\u001b[0m\u001b[1;31m# file is not existed then its error\u001b[0m\u001b[1;33m\u001b[0m\u001b[0m\n\u001b[0m\u001b[0;32m      4\u001b[0m \u001b[0mfo\u001b[0m\u001b[1;33m.\u001b[0m\u001b[0mclose\u001b[0m\u001b[1;33m(\u001b[0m\u001b[1;33m)\u001b[0m\u001b[1;33m\u001b[0m\u001b[0m\n",
      "\u001b[1;31mIOError\u001b[0m: [Errno 2] No such file or directory: 'sample10.txt'"
     ]
    }
   ],
   "source": [
    "\n",
    "# read mode r+\n",
    "fo = open(\"sample10.txt\",'r+')# file is not existed then its error\n",
    "fo.close()"
   ]
  },
  {
   "cell_type": "code",
   "execution_count": 3,
   "metadata": {},
   "outputs": [
    {
     "name": "stdout",
     "output_type": "stream",
     "text": [
      "file loc :  0\n",
      "line1\n",
      "line2\n",
      "line3\n",
      "line4\n",
      "line5\n",
      "line6\n",
      "line7\n",
      "file loc :  0\n",
      "line1\n",
      "\n",
      "file loc :  1\n",
      "line2\n",
      "\n",
      "file loc :  8\n",
      "file loc :  0\n",
      "['line1\\n', 'line2\\n', 'line3\\n', 'line4\\n', 'line5\\n', 'line6\\n', 'line7']\n"
     ]
    }
   ],
   "source": [
    "# read mode  r \n",
    "\n",
    "fo = open(\"sample.txt\",'r') \n",
    "print \"file loc : \",fo.tell()\n",
    "print fo.read()\n",
    "fo.seek(0,0)\n",
    "print \"file loc : \",fo.tell()\n",
    "print fo.readline()\n",
    "print \"file loc : \",fo.tell()\n",
    "print fo.readline()\n",
    "print \"file loc : \",fo.tell()\n",
    "fo.seek(0,0)\n",
    "print \"file loc : \",fo.tell()\n",
    "print fo.readlines()\n",
    "fo.close()\n",
    "\n"
   ]
  },
  {
   "cell_type": "code",
   "execution_count": 4,
   "metadata": {},
   "outputs": [
    {
     "name": "stdout",
     "output_type": "stream",
     "text": [
      "file loc :  0\n",
      "line1\n",
      "line2\n",
      "line3\n",
      "line4\n",
      "line5\n",
      "line6\n",
      "line7\n",
      "file loc :  0\n",
      "line1\n",
      "\n",
      "file loc :  1\n",
      "line2\n",
      "\n",
      "file loc :  8\n",
      "file loc :  0\n",
      "['line1\\n', 'line2\\n', 'line3\\n', 'line4\\n', 'line5\\n', 'line6\\n', 'line7']\n"
     ]
    }
   ],
   "source": [
    "# read mode  r+\n",
    "\n",
    "fo = open(\"sample.txt\",'r+') \n",
    "print \"file loc : \",fo.tell()\n",
    "print fo.read()\n",
    "fo.seek(0,0)\n",
    "print \"file loc : \",fo.tell()\n",
    "print fo.readline()\n",
    "print \"file loc : \",fo.tell()\n",
    "print fo.readline()\n",
    "print \"file loc : \",fo.tell()\n",
    "fo.seek(0,0)\n",
    "print \"file loc : \",fo.tell()\n",
    "print fo.readlines()\n",
    "fo.close()"
   ]
  },
  {
   "cell_type": "code",
   "execution_count": 5,
   "metadata": {},
   "outputs": [
    {
     "name": "stdout",
     "output_type": "stream",
     "text": [
      "line1\n",
      "line2\n",
      "line3\n",
      "line4\n",
      "line5\n",
      "line6\n",
      "line7\n"
     ]
    },
    {
     "ename": "IOError",
     "evalue": "File not open for writing",
     "output_type": "error",
     "traceback": [
      "\u001b[1;31m---------------------------------------------------------------------------\u001b[0m",
      "\u001b[1;31mIOError\u001b[0m                                   Traceback (most recent call last)",
      "\u001b[1;32m<ipython-input-5-6af056bc0b0f>\u001b[0m in \u001b[0;36m<module>\u001b[1;34m()\u001b[0m\n\u001b[0;32m      4\u001b[0m \u001b[1;32mprint\u001b[0m \u001b[0mfo\u001b[0m\u001b[1;33m.\u001b[0m\u001b[0mread\u001b[0m\u001b[1;33m(\u001b[0m\u001b[1;33m)\u001b[0m\u001b[1;33m\u001b[0m\u001b[0m\n\u001b[0;32m      5\u001b[0m \u001b[0mfo\u001b[0m\u001b[1;33m.\u001b[0m\u001b[0mseek\u001b[0m\u001b[1;33m(\u001b[0m\u001b[1;36m0\u001b[0m\u001b[1;33m,\u001b[0m\u001b[1;36m0\u001b[0m\u001b[1;33m)\u001b[0m\u001b[1;33m\u001b[0m\u001b[0m\n\u001b[1;32m----> 6\u001b[1;33m \u001b[0mfo\u001b[0m\u001b[1;33m.\u001b[0m\u001b[0mwrite\u001b[0m\u001b[1;33m(\u001b[0m\u001b[1;34m\"hello\"\u001b[0m\u001b[1;33m)\u001b[0m\u001b[1;33m\u001b[0m\u001b[0m\n\u001b[0m\u001b[0;32m      7\u001b[0m \u001b[0mfo\u001b[0m\u001b[1;33m.\u001b[0m\u001b[0mseek\u001b[0m\u001b[1;33m(\u001b[0m\u001b[1;36m0\u001b[0m\u001b[1;33m,\u001b[0m\u001b[1;36m0\u001b[0m\u001b[1;33m)\u001b[0m\u001b[1;33m\u001b[0m\u001b[0m\n\u001b[0;32m      8\u001b[0m \u001b[1;32mprint\u001b[0m \u001b[0mfo\u001b[0m\u001b[1;33m.\u001b[0m\u001b[0mread\u001b[0m\u001b[1;33m(\u001b[0m\u001b[1;33m)\u001b[0m\u001b[1;33m\u001b[0m\u001b[0m\n",
      "\u001b[1;31mIOError\u001b[0m: File not open for writing"
     ]
    }
   ],
   "source": [
    "# read mode  r \n",
    "\n",
    "fo = open(\"sample.txt\",'r') \n",
    "print fo.read()\n",
    "fo.seek(0,0)\n",
    "fo.write(\"hello\")\n",
    "fo.seek(0,0)\n",
    "print fo.read()\n",
    "fo.close()"
   ]
  },
  {
   "cell_type": "code",
   "execution_count": 6,
   "metadata": {},
   "outputs": [
    {
     "name": "stdout",
     "output_type": "stream",
     "text": [
      "line1\n",
      "line2\n",
      "line3\n",
      "line4\n",
      "line5\n",
      "line6\n",
      "line7\n",
      "hello\n",
      "line2\n",
      "line3\n",
      "line4\n",
      "line5\n",
      "line6\n",
      "line7\n"
     ]
    }
   ],
   "source": [
    "# read mode  r+\n",
    "\n",
    "fo = open(\"sample.txt\",'r+') \n",
    "print fo.read()\n",
    "fo.seek(0,0)\n",
    "fo.write(\"hello\")\n",
    "fo.seek(0,0)\n",
    "print fo.read()\n",
    "fo.close()"
   ]
  },
  {
   "cell_type": "code",
   "execution_count": 7,
   "metadata": {},
   "outputs": [
    {
     "name": "stdout",
     "output_type": "stream",
     "text": [
      "initial loc :  0\n",
      "EOF loc :  41\n",
      "COF loc :  10\n",
      "COF loc :  15\n",
      "COF loc :  8\n"
     ]
    }
   ],
   "source": [
    "# read mode  r \n",
    "\n",
    "fo = open(\"sample.txt\",'r') \n",
    "fo.seek(0,0)\n",
    "print \"initial loc : \",fo.tell() # 0\n",
    "\n",
    "fo.seek(0,2)  #  setting position at EOF\n",
    "print \"EOF loc : \",fo.tell() # no of character in a file\n",
    "\n",
    "fo.seek (10,0)# from BOF 10 position forword\n",
    "print \"COF loc : \",fo.tell() # 10\n",
    "fo.seek(5,1) # from 10  (COF )position to  5 position forword\n",
    "print \"COF loc : \",fo.tell() # 15\n",
    "fo.seek(-7,1) # from 15  (COF )position to  7 position backword\n",
    "print \"COF loc : \",fo.tell() # 8\n",
    "\n",
    "fo.close()"
   ]
  },
  {
   "cell_type": "code",
   "execution_count": null,
   "metadata": {},
   "outputs": [],
   "source": []
  }
 ],
 "metadata": {
  "kernelspec": {
   "display_name": "Python 2",
   "language": "python",
   "name": "python2"
  },
  "language_info": {
   "codemirror_mode": {
    "name": "ipython",
    "version": 2
   },
   "file_extension": ".py",
   "mimetype": "text/x-python",
   "name": "python",
   "nbconvert_exporter": "python",
   "pygments_lexer": "ipython2",
   "version": "2.7.16"
  }
 },
 "nbformat": 4,
 "nbformat_minor": 2
}
